{
 "cells": [
  {
   "cell_type": "code",
   "id": "c9fcd1f9-da4f-4fef-93b8-6a623f78f729",
   "metadata": {
    "tags": [],
    "jupyter": {
     "is_executing": true
    }
   },
   "source": [
    "from functools import cache\n",
    "import numpy as np\n",
    "import matplotlib.pyplot as plt\n",
    "from scipy.stats import lognorm"
   ],
   "outputs": [],
   "execution_count": null
  },
  {
   "cell_type": "code",
   "execution_count": 2,
   "id": "3ddb7293-2a33-4aa9-9cf4-ebe657fb3887",
   "metadata": {
    "tags": []
   },
   "outputs": [],
   "source": "from full_fm import FullFm"
  },
  {
   "cell_type": "code",
   "execution_count": 3,
   "id": "315368d4-aef9-4f4f-aec4-0bd76d6f9f1c",
   "metadata": {
    "tags": []
   },
   "outputs": [],
   "source": [
    "from typing import Callable"
   ]
  },
  {
   "cell_type": "code",
   "execution_count": 4,
   "id": "89ce72d6-e394-4d2d-afc0-86e7112139df",
   "metadata": {
    "tags": []
   },
   "outputs": [],
   "source": [
    "X = lognorm.rvs(5, size=int(1e6)).astype(int)"
   ]
  },
  {
   "cell_type": "code",
   "execution_count": 5,
   "id": "31e7e679-3ab7-4710-b02e-8106614489af",
   "metadata": {
    "tags": []
   },
   "outputs": [],
   "source": [
    "def seeded_hash(hash_seed: int) -> Callable[[int], float]:\n",
    "    @cache\n",
    "    def cool_hash(value: int) -> float:\n",
    "        return np.random.default_rng(seed=value + hash_seed*31).uniform()\n",
    "    return cool_hash"
   ]
  },
  {
   "cell_type": "code",
   "execution_count": 6,
   "id": "9bad648c-445e-48e4-a260-81fa70a98143",
   "metadata": {
    "tags": []
   },
   "outputs": [
    {
     "data": {
      "text/plain": [
       "(37368,)"
      ]
     },
     "execution_count": 6,
     "metadata": {},
     "output_type": "execute_result"
    }
   ],
   "source": [
    "np.unique(X).shape"
   ]
  },
  {
   "cell_type": "code",
   "execution_count": 7,
   "id": "8d68c25d-2875-4b1c-bd98-b318c2b7000a",
   "metadata": {
    "tags": []
   },
   "outputs": [],
   "source": [
    "def run_experiment(values: np.ndarray, base_seed: int, num_hashes: int, num_betas: int) -> float:\n",
    "    generator = np.random.default_rng(seed=base_seed)\n",
    "    hash_funcs = [seeded_hash(generator.integers(1, 1000)) for _ in range(num_hashes)]\n",
    "    ams = FullFm(hash_funcs, len(hash_funcs) // num_betas)\n",
    "    return ams.update(values).estimate()\n",
    "    "
   ]
  },
  {
   "cell_type": "code",
   "execution_count": 8,
   "id": "a63a761c-2a12-48f2-8c29-5c4505279455",
   "metadata": {
    "tags": []
   },
   "outputs": [],
   "source": [
    "def run_experiments(values: np.ndarray, base_seeds: list[int], num_hashes: int, num_betas: int) -> list[float]:\n",
    "    return [run_experiment(values, s, num_hashes, num_betas) for s in base_seeds]"
   ]
  },
  {
   "cell_type": "code",
   "execution_count": 9,
   "id": "ae6b0b1a-575a-4223-8f76-780211bfed49",
   "metadata": {
    "tags": []
   },
   "outputs": [],
   "source": [
    "results = run_experiments(X, np.arange(1, 26), 1, 1)"
   ]
  },
  {
   "cell_type": "code",
   "execution_count": 10,
   "id": "13d6a241-1442-48c1-8a4f-b441794b9122",
   "metadata": {
    "tags": []
   },
   "outputs": [
    {
     "data": {
      "text/plain": [
       "[12353.000828790382,\n",
       " 41236.78282590656,\n",
       " 12362.758069872927,\n",
       " 19984.78935506544,\n",
       " 19984.78935506544,\n",
       " 31107.917983110747,\n",
       " 38875.01039370618,\n",
       " 4382038.053111839,\n",
       " 26200.871695462032,\n",
       " 20788.72444279912,\n",
       " 201309.8023417926,\n",
       " 11657.50739132869,\n",
       " 4382038.053111839,\n",
       " 201309.8023417926,\n",
       " 41236.78282590656,\n",
       " 863197.482082425,\n",
       " 41138.24345705607,\n",
       " 135757.79535488706,\n",
       " 41236.78282590656,\n",
       " 12362.758069872927,\n",
       " 201309.8023417926,\n",
       " 80108.46486556508,\n",
       " 32151.98533865455,\n",
       " 172792.19284583934,\n",
       " 172792.19284583934]"
      ]
     },
     "execution_count": 10,
     "metadata": {},
     "output_type": "execute_result"
    }
   ],
   "source": [
    "results"
   ]
  },
  {
   "cell_type": "code",
   "execution_count": 24,
   "id": "bcca0c47-ef24-49fa-a315-e80702141bca",
   "metadata": {
    "tags": []
   },
   "outputs": [
    {
     "data": {
      "text/plain": [
       "1374206.5230752686"
      ]
     },
     "execution_count": 24,
     "metadata": {},
     "output_type": "execute_result"
    }
   ],
   "source": [
    "np.var(results) / len(X)"
   ]
  },
  {
   "cell_type": "code",
   "execution_count": 26,
   "id": "ac07c26a-56a8-4a99-8704-ba14c839a6ee",
   "metadata": {
    "tags": []
   },
   "outputs": [
    {
     "data": {
      "text/plain": [
       "447813.29384408466"
      ]
     },
     "execution_count": 26,
     "metadata": {},
     "output_type": "execute_result"
    }
   ],
   "source": [
    "np.mean(results)"
   ]
  },
  {
   "cell_type": "code",
   "execution_count": null,
   "id": "5be0c961-52b1-4a2c-a630-727d8ee15ec5",
   "metadata": {},
   "outputs": [],
   "source": []
  }
 ],
 "metadata": {
  "kernelspec": {
   "display_name": "Python 3 (ipykernel)",
   "language": "python",
   "name": "python3"
  },
  "language_info": {
   "codemirror_mode": {
    "name": "ipython",
    "version": 3
   },
   "file_extension": ".py",
   "mimetype": "text/x-python",
   "name": "python",
   "nbconvert_exporter": "python",
   "pygments_lexer": "ipython3",
   "version": "3.11.5"
  }
 },
 "nbformat": 4,
 "nbformat_minor": 5
}
