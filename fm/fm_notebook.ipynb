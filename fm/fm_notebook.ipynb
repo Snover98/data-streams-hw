{
 "cells": [
  {
   "cell_type": "code",
   "id": "c9fcd1f9-da4f-4fef-93b8-6a623f78f729",
   "metadata": {
    "tags": [],
    "ExecuteTime": {
     "end_time": "2025-01-19T15:25:42.110908Z",
     "start_time": "2025-01-19T15:25:39.567998Z"
    }
   },
   "source": [
    "import numpy as np\n",
    "from scipy.stats import lognorm\n",
    "import matplotlib.pyplot as plt\n",
    "\n",
    "# import plotly.express as px\n",
    "# import plotly.graph_objects as go"
   ],
   "outputs": [],
   "execution_count": 1
  },
  {
   "cell_type": "code",
   "id": "3ddb7293-2a33-4aa9-9cf4-ebe657fb3887",
   "metadata": {
    "tags": [],
    "ExecuteTime": {
     "end_time": "2025-01-19T15:25:42.179561Z",
     "start_time": "2025-01-19T15:25:42.110908Z"
    }
   },
   "source": "from experiments import run_experiments",
   "outputs": [],
   "execution_count": 2
  },
  {
   "metadata": {},
   "cell_type": "markdown",
   "source": [
    "# The Data\n",
    "## Log-Normal Distribution\n",
    "In order to simulate an annoying real-world distribution, I used the log-normal distribution and rounded the results\n",
    "\n",
    "This causes a large number of uniques, but with heavy-hitters and several lower probability uniques that still show up several times\n",
    "\n",
    "## Sample Random Seed\n",
    "To generate the same sample on several runs, I just used my id as the random seed.\n",
    "\n",
    "## Sample size\n",
    "I choose to use 200,000 (2e5) samples, since it's a nice round number.\n"
   ],
   "id": "43ea0a1fbc4dfa77"
  },
  {
   "metadata": {
    "tags": [],
    "ExecuteTime": {
     "end_time": "2025-01-19T15:25:42.635217Z",
     "start_time": "2025-01-19T15:25:42.614782Z"
    }
   },
   "cell_type": "code",
   "source": "X = lognorm.rvs(5, size=int(2e5), random_state=206783441).astype(int)",
   "id": "89ce72d6-e394-4d2d-afc0-86e7112139df",
   "outputs": [],
   "execution_count": 3
  },
  {
   "metadata": {},
   "cell_type": "markdown",
   "source": [
    "## Number of unique values\n",
    "With the chosen seed I got 12147 unique values - which matches the criteria of 10k uniques"
   ],
   "id": "e36af62403ca4884"
  },
  {
   "cell_type": "code",
   "id": "9bad648c-445e-48e4-a260-81fa70a98143",
   "metadata": {
    "tags": [],
    "ExecuteTime": {
     "end_time": "2025-01-19T15:25:42.671932Z",
     "start_time": "2025-01-19T15:25:42.647486Z"
    }
   },
   "source": [
    "np.unique(X).shape"
   ],
   "outputs": [
    {
     "data": {
      "text/plain": [
       "(12147,)"
      ]
     },
     "execution_count": 4,
     "metadata": {},
     "output_type": "execute_result"
    }
   ],
   "execution_count": 4
  },
  {
   "metadata": {},
   "cell_type": "markdown",
   "source": [
    "## How the distributions looks\n",
    "We can see what I mean - many heavy hitters close to 0, but plenty of uniques"
   ],
   "id": "c9d6df4da2ca943"
  },
  {
   "metadata": {
    "ExecuteTime": {
     "end_time": "2025-01-19T15:25:43.268134Z",
     "start_time": "2025-01-19T15:25:42.698811Z"
    }
   },
   "cell_type": "code",
   "source": [
    "plt.hist(X, bins=np.arange(1, 200))\n",
    "plt.show()"
   ],
   "id": "4095aef997dc2bc3",
   "outputs": [
    {
     "data": {
      "text/plain": [
       "<Figure size 640x480 with 1 Axes>"
      ],
      "image/png": "[encoded data removed]"
     },
     "metadata": {},
     "output_type": "display_data"
    }
   ],
   "execution_count": 5
  },
  {
   "metadata": {},
   "cell_type": "markdown",
   "source": [
    "# Experiments\n",
    "## Parameters\n",
    "I ran 100 different experiments for each estimator and config, with the seeds being the values 1 to 100 for each one.\n",
    "\n",
    "I used the seed to init the random hash function (the way it works is further elaborated in the file `experiments.py`) and besides that everthing else is deterministic"
   ],
   "id": "bbb021522d7adf9"
  },
  {
   "metadata": {},
   "cell_type": "markdown",
   "source": [
    "## Single $\\alpha$ estimator\n",
    "Here I ran a full FM estimator with a single hash function and a single $\\beta$ estimator - which is just an $\\alpha$ estimator"
   ],
   "id": "9a27fa89859c78e2"
  },
  {
   "cell_type": "code",
   "id": "ae6b0b1a-575a-4223-8f76-780211bfed49",
   "metadata": {
    "tags": [],
    "ExecuteTime": {
     "end_time": "2025-01-19T15:26:06.460288Z",
     "start_time": "2025-01-19T15:25:43.280319Z"
    }
   },
   "source": "alpha_results = run_experiments(X, base_seeds=np.arange(1, 101).tolist(), num_hashes=1, num_betas=1, num_procs=8)",
   "outputs": [
    {
     "name": "stderr",
     "output_type": "stream",
     "text": [
      "num_hashes=1, num_betas=1: 100%|██████████| 100/100 [00:22<00:00,  4.42it/s]\n"
     ]
    }
   ],
   "execution_count": 6
  },
  {
   "metadata": {},
   "cell_type": "markdown",
   "source": [
    "### The results\n",
    "We can already see that median is really far from the actual value (around twice!)"
   ],
   "id": "d19df4b7b47e5f0e"
  },
  {
   "cell_type": "code",
   "id": "13d6a241-1442-48c1-8a4f-b441794b9122",
   "metadata": {
    "tags": [],
    "ExecuteTime": {
     "end_time": "2025-01-19T15:26:06.483280Z",
     "start_time": "2025-01-19T15:26:06.474715Z"
    }
   },
   "source": "np.median(alpha_results)",
   "outputs": [
    {
     "data": {
      "text/plain": [
       "np.float64(19984.78935506544)"
      ]
     },
     "execution_count": 7,
     "metadata": {},
     "output_type": "execute_result"
    }
   ],
   "execution_count": 7
  },
  {
   "metadata": {},
   "cell_type": "markdown",
   "source": "The mean is even worse, most likely due to outliers (as we'll see later)",
   "id": "a495667ba3f7f091"
  },
  {
   "metadata": {
    "ExecuteTime": {
     "end_time": "2025-01-19T15:26:06.518371Z",
     "start_time": "2025-01-19T15:26:06.508646Z"
    }
   },
   "cell_type": "code",
   "source": "np.mean(alpha_results)",
   "id": "c2166fec9bc38e05",
   "outputs": [
    {
     "data": {
      "text/plain": [
       "np.float64(77956.14219632142)"
      ]
     },
     "execution_count": 8,
     "metadata": {},
     "output_type": "execute_result"
    }
   ],
   "execution_count": 8
  },
  {
   "metadata": {},
   "cell_type": "markdown",
   "source": "The normalized variance is also insane - it's more than 53 million",
   "id": "212aea383e3899f1"
  },
  {
   "metadata": {
    "ExecuteTime": {
     "end_time": "2025-01-19T15:26:06.598479Z",
     "start_time": "2025-01-19T15:26:06.582863Z"
    }
   },
   "cell_type": "code",
   "source": "np.var(alpha_results) / len(np.unique(X))",
   "id": "83b6689ae976fcaf",
   "outputs": [
    {
     "data": {
      "text/plain": [
       "np.float64(3035365.7503246637)"
      ]
     },
     "execution_count": 9,
     "metadata": {},
     "output_type": "execute_result"
    }
   ],
   "execution_count": 9
  },
  {
   "metadata": {},
   "cell_type": "markdown",
   "source": "when we plot a histogram of the values with the actual number of uniques, the mean, and the median - we can see that they are not even close!",
   "id": "d62e79b05fb87ee0"
  },
  {
   "metadata": {
    "ExecuteTime": {
     "end_time": "2025-01-19T15:26:06.927465Z",
     "start_time": "2025-01-19T15:26:06.649814Z"
    }
   },
   "cell_type": "code",
   "source": [
    "plt.hist(alpha_results, bins=50)\n",
    "plt.axvline(x=len(np.unique(X)), color='red', label='actual')\n",
    "plt.axvline(x=np.mean(alpha_results), color='blue', label='mean')\n",
    "plt.axvline(x=np.median(alpha_results), color='yellow', label='median')\n",
    "plt.legend()\n",
    "plt.show()"
   ],
   "id": "52a7d968851f4a16",
   "outputs": [
    {
     "data": {
      "text/plain": [
       "<Figure size 640x480 with 1 Axes>"
      ],
      "image/png": "[encoded data removed]"
     },
     "metadata": {},
     "output_type": "display_data"
    }
   ],
   "execution_count": 10
  },
  {
   "metadata": {},
   "cell_type": "markdown",
   "source": "If we zoom in a bit, we can see that the median has most values around it, while the actual value is the **32nd percentile!**",
   "id": "2dc2918808ebf551"
  },
  {
   "metadata": {
    "ExecuteTime": {
     "end_time": "2025-01-19T15:26:06.952751Z",
     "start_time": "2025-01-19T15:26:06.937474Z"
    }
   },
   "cell_type": "code",
   "source": "np.mean(np.array(alpha_results) <= len(np.unique(X)))",
   "id": "1dac5b619ba6cc43",
   "outputs": [
    {
     "data": {
      "text/plain": [
       "np.float64(0.32)"
      ]
     },
     "execution_count": 11,
     "metadata": {},
     "output_type": "execute_result"
    }
   ],
   "execution_count": 11
  },
  {
   "metadata": {
    "ExecuteTime": {
     "end_time": "2025-01-19T15:26:07.250912Z",
     "start_time": "2025-01-19T15:26:06.972958Z"
    }
   },
   "cell_type": "code",
   "source": [
    "bins = np.linspace(np.min(alpha_results), np.percentile(alpha_results, 95), 50).tolist()\n",
    "plt.hist(alpha_results, bins=sorted(bins))\n",
    "plt.axvline(x=len(np.unique(X)), color='red', label='actual')\n",
    "plt.axvline(x=np.mean(alpha_results), color='blue', label='mean')\n",
    "plt.axvline(x=np.median(alpha_results), color='yellow', label='median')\n",
    "plt.legend()\n",
    "plt.show()"
   ],
   "id": "c21755df728478e2",
   "outputs": [
    {
     "data": {
      "text/plain": [
       "<Figure size 640x480 with 1 Axes>"
      ],
      "image/png": "[encoded data removed]"
     },
     "metadata": {},
     "output_type": "display_data"
    }
   ],
   "execution_count": 12
  },
  {
   "metadata": {},
   "cell_type": "markdown",
   "source": "this shows that as we learned at class, the $\\alpha$ estimator has way too much variance to be used as is",
   "id": "c59a72f9cb0e33e3"
  },
  {
   "metadata": {},
   "cell_type": "markdown",
   "source": [
    "## Single $\\beta$ estimator\n",
    "Here I ran a full FM estimator with a several hash functions and a single $\\beta$ estimator - which is just a $\\beta$ estimator"
   ],
   "id": "93670ac3f1ea1063"
  },
  {
   "metadata": {},
   "cell_type": "markdown",
   "source": [
    "### Evaluated sketch sizes\n",
    "For the beta estimator, I ran the same number of experiments with the following sketch sizes: $k = [10, 50, 100, 500, 1000]$"
   ],
   "id": "5218f5b412a1e0d8"
  },
  {
   "metadata": {
    "ExecuteTime": {
     "end_time": "2025-01-19T15:26:07.287335Z",
     "start_time": "2025-01-19T15:26:07.280013Z"
    }
   },
   "cell_type": "code",
   "source": "beta_sketch_sizes = [10, 50, 100, 500, 1000]",
   "id": "2371dabef3840d83",
   "outputs": [],
   "execution_count": 13
  },
  {
   "metadata": {},
   "cell_type": "markdown",
   "source": [
    "### Other Parameters\n",
    "Due to the computation times, here I just ran 50 experiments for each sketch size - for the larger sketch sizes it took quite a while"
   ],
   "id": "bf82b43d7e0896a2"
  },
  {
   "cell_type": "code",
   "id": "5be0c961-52b1-4a2c-a630-727d8ee15ec5",
   "metadata": {
    "ExecuteTime": {
     "start_time": "2025-01-19T15:26:07.303346Z"
    }
   },
   "source": [
    "beta_results = {\n",
    "    sketch_size: run_experiments(X, base_seeds=np.arange(1, 51).tolist(), num_hashes=sketch_size, num_betas=1, num_procs=8)\n",
    "    for sketch_size in beta_sketch_sizes\n",
    "}"
   ],
   "outputs": [
    {
     "name": "stderr",
     "output_type": "stream",
     "text": [
      "num_hashes=10, num_betas=1: 100%|██████████| 100/100 [03:39<00:00,  2.20s/it]\n",
      "num_hashes=50, num_betas=1: 100%|██████████| 100/100 [18:36<00:00, 11.17s/it]\n",
      "num_hashes=100, num_betas=1:  48%|████▊     | 48/100 [18:46<27:48, 32.09s/it]  "
     ]
    }
   ],
   "execution_count": null
  },
  {
   "metadata": {
    "ExecuteTime": {
     "end_time": "2025-01-19T16:50:19.667739400Z",
     "start_time": "2025-01-19T15:15:40.781240Z"
    }
   },
   "cell_type": "code",
   "source": [
    "import pickle\n",
    "with open('beta_results.pkl', 'wb') as f:\n",
    "    pickle.dump(beta_results, f)"
   ],
   "id": "67b7a5bd098e5926",
   "outputs": [],
   "execution_count": 30
  },
  {
   "metadata": {
    "ExecuteTime": {
     "end_time": "2025-01-19T16:50:19.692807700Z",
     "start_time": "2025-01-19T15:15:41.574374Z"
    }
   },
   "cell_type": "code",
   "source": [
    "with open('beta_results.pkl', 'rb') as f:\n",
    "    tmp = pickle.load(f)\n",
    "tmp"
   ],
   "id": "61fff9f6c5a98f9f",
   "outputs": [
    {
     "data": {
      "text/plain": [
       "{10: [12214.667143883495,\n",
       "  14423.834517523328,\n",
       "  12761.95755714884,\n",
       "  12736.390264545413,\n",
       "  20854.583139705162,\n",
       "  18554.32930965479,\n",
       "  14687.197649192349,\n",
       "  9632.420433034595,\n",
       "  13462.114445716617,\n",
       "  11317.545040649575,\n",
       "  15534.959776548147,\n",
       "  14354.203818125283,\n",
       "  14249.175049538942,\n",
       "  9572.205074489337,\n",
       "  27127.22018424899,\n",
       "  15408.365771875944,\n",
       "  13554.278784702214,\n",
       "  15614.869791464484,\n",
       "  11436.95305229759,\n",
       "  13402.205020778896,\n",
       "  15086.319527898371,\n",
       "  11492.07032725323,\n",
       "  9859.336841064478,\n",
       "  9917.418308231521,\n",
       "  12249.749131357923,\n",
       "  13250.407459586462,\n",
       "  8240.14427554829,\n",
       "  11375.257958188875,\n",
       "  16192.616879043202,\n",
       "  15409.295639445096,\n",
       "  18581.24794980382,\n",
       "  20789.247373808917,\n",
       "  9429.145692404723,\n",
       "  20553.933237691166,\n",
       "  16651.842783593325,\n",
       "  15983.2787329325,\n",
       "  7089.046752902735,\n",
       "  16871.11237068544,\n",
       "  17981.03130637839,\n",
       "  7277.497070350161,\n",
       "  17926.596861814207,\n",
       "  16847.673933487542,\n",
       "  12703.577410119104,\n",
       "  9001.013787004622,\n",
       "  10964.400219581785,\n",
       "  16802.564847487945,\n",
       "  22364.290360502397,\n",
       "  22735.722381989883,\n",
       "  8003.128240640348,\n",
       "  11219.072350246577],\n",
       " 50: [13943.098256082101,\n",
       "  9987.5687403754,\n",
       "  14582.232069862577,\n",
       "  15917.063472666088,\n",
       "  11888.609973568879,\n",
       "  11237.009212146373,\n",
       "  11726.484670905254,\n",
       "  14071.977387355913,\n",
       "  12685.364951168733,\n",
       "  16974.803934636195,\n",
       "  10259.226318573728,\n",
       "  13194.157540839928,\n",
       "  13493.959508529597,\n",
       "  9772.481034236518,\n",
       "  12798.36159758534,\n",
       "  13451.774788943952,\n",
       "  13688.43571668413,\n",
       "  10771.960141477943,\n",
       "  13246.250438850577,\n",
       "  11300.46049314188,\n",
       "  12043.818227522663,\n",
       "  12792.105805450905,\n",
       "  10212.406402542496,\n",
       "  11080.847050490602,\n",
       "  9299.199113150002,\n",
       "  11602.05107560053,\n",
       "  16519.594093899836,\n",
       "  10305.729374814613,\n",
       "  13273.621068688619,\n",
       "  12745.65704082344,\n",
       "  12781.956393225451,\n",
       "  13571.731319201806,\n",
       "  12006.075790341982,\n",
       "  10985.754760951782,\n",
       "  14481.76722198329,\n",
       "  16262.06254972738,\n",
       "  15006.351948306135,\n",
       "  13762.774423874134,\n",
       "  9049.67555138953,\n",
       "  12689.021124629917,\n",
       "  12421.562166017626,\n",
       "  12424.274655153238,\n",
       "  12310.755224720864,\n",
       "  14380.742296418579,\n",
       "  13351.901915886207,\n",
       "  13627.21396393393,\n",
       "  12284.166116479095,\n",
       "  12953.442553568224,\n",
       "  9551.648723427743,\n",
       "  11399.298447511035],\n",
       " 100: [14204.998052314028,\n",
       "  12231.483897520387,\n",
       "  10368.770000299208,\n",
       "  14101.805956198259,\n",
       "  11916.077671707637,\n",
       "  13724.138510494808,\n",
       "  14780.027646497303,\n",
       "  12680.304818506349,\n",
       "  10943.508297647075,\n",
       "  12525.668296751739,\n",
       "  12193.262974194868,\n",
       "  13039.186168693263,\n",
       "  11011.542927756798,\n",
       "  14871.786883783507,\n",
       "  14979.69016469051,\n",
       "  14932.131901827328,\n",
       "  14010.724059793622,\n",
       "  11586.985501627407,\n",
       "  14235.128261416336,\n",
       "  11436.31432623335,\n",
       "  11919.278261957517,\n",
       "  12528.261180557767,\n",
       "  13817.413815526255,\n",
       "  11545.390576942522,\n",
       "  12388.62095608825,\n",
       "  10458.283130943008,\n",
       "  13562.866351885432,\n",
       "  14036.423040295313,\n",
       "  10574.884538112336,\n",
       "  12109.925716345051,\n",
       "  13939.702866888874,\n",
       "  13901.713369892994,\n",
       "  14014.374310589248,\n",
       "  11917.154340638514,\n",
       "  11855.274410773429,\n",
       "  11562.44357303284,\n",
       "  10320.243135963838,\n",
       "  10856.991201951872,\n",
       "  12072.632200863889,\n",
       "  12848.547188237882,\n",
       "  13109.574201300755,\n",
       "  10738.482140213435,\n",
       "  11998.859049471967,\n",
       "  13735.075460462733,\n",
       "  11988.492833378104,\n",
       "  12406.438810186273,\n",
       "  13472.51587880699,\n",
       "  10658.146199061479,\n",
       "  11888.357903612963,\n",
       "  12129.416885462942],\n",
       " 500: [13015.788461934195,\n",
       "  12929.858702612675,\n",
       "  13308.305699955456,\n",
       "  13280.67362658709,\n",
       "  11591.413464121453,\n",
       "  12015.092864297834,\n",
       "  13173.358332511085,\n",
       "  12385.92906741011,\n",
       "  12315.6670684326,\n",
       "  11761.885944577063,\n",
       "  13374.002949605772,\n",
       "  11964.856717613276,\n",
       "  12611.775626485116,\n",
       "  13229.909982630215,\n",
       "  12537.145630958066,\n",
       "  12546.323105521382,\n",
       "  12671.565241802502,\n",
       "  12998.580041725214,\n",
       "  13007.133666165615,\n",
       "  13275.992638862417,\n",
       "  12751.634291132756,\n",
       "  12851.362870992067,\n",
       "  12434.272833074563,\n",
       "  12483.414278080283,\n",
       "  11589.47876332646,\n",
       "  13298.170860054792,\n",
       "  13434.298720151066,\n",
       "  12250.388715216957,\n",
       "  12278.50662515132,\n",
       "  12653.51342441497,\n",
       "  12408.98405594185,\n",
       "  13777.672198770431,\n",
       "  13433.176677192625,\n",
       "  13023.50967606175,\n",
       "  12721.391975203423,\n",
       "  13134.91228257913,\n",
       "  12851.0572025091,\n",
       "  12223.612700553926,\n",
       "  13198.891993891071,\n",
       "  13109.021676378285,\n",
       "  12608.73194942115,\n",
       "  12511.56018306375,\n",
       "  12696.582641101922,\n",
       "  12956.35716106818,\n",
       "  13056.534178143454,\n",
       "  11608.274314717615,\n",
       "  13041.10540669908,\n",
       "  12407.51182341251,\n",
       "  12089.256457819869,\n",
       "  12431.273195945041],\n",
       " 1000: [12396.433850031717,\n",
       "  12272.025375901449,\n",
       "  13112.48409217469,\n",
       "  12846.873961719895,\n",
       "  13168.685098862092,\n",
       "  13196.88847571453,\n",
       "  12484.602295846595,\n",
       "  12394.79514152949,\n",
       "  12589.917688128495,\n",
       "  12066.179366017199,\n",
       "  12216.320161709895,\n",
       "  12573.750144118754,\n",
       "  12112.113875143108,\n",
       "  12625.814038969078,\n",
       "  12151.298089478545,\n",
       "  11992.82391913917,\n",
       "  12249.246791089325,\n",
       "  12464.497724252627,\n",
       "  12546.690536642755,\n",
       "  12372.277940916949,\n",
       "  12588.923357739553,\n",
       "  12597.288019205918,\n",
       "  12830.04760907331,\n",
       "  12187.188190550225,\n",
       "  12860.097491715122,\n",
       "  13148.793990125825,\n",
       "  12560.183422725802,\n",
       "  12634.423964118896,\n",
       "  12778.488075393967,\n",
       "  12537.902283392812,\n",
       "  12446.384503256537,\n",
       "  12154.723982959156,\n",
       "  12682.072009913467,\n",
       "  12875.611018279713,\n",
       "  12412.581166854985,\n",
       "  12967.006222963833,\n",
       "  12829.043777941066,\n",
       "  12845.909260731441,\n",
       "  12181.235140380744,\n",
       "  12370.186464967443,\n",
       "  12355.780401748689,\n",
       "  13194.360312634486,\n",
       "  12597.24460536945,\n",
       "  13063.14564822954,\n",
       "  13463.019222033065,\n",
       "  12588.106037561587,\n",
       "  12701.998637545512,\n",
       "  13065.873885018655,\n",
       "  12904.529114173281,\n",
       "  12340.215022079923]}"
      ]
     },
     "execution_count": 31,
     "metadata": {},
     "output_type": "execute_result"
    }
   ],
   "execution_count": 31
  },
  {
   "metadata": {
    "ExecuteTime": {
     "end_time": "2025-01-19T16:50:19.695810500Z",
     "start_time": "2025-01-19T15:08:20.772490Z"
    }
   },
   "cell_type": "code",
   "source": [
    "# tmp_results = run_experiments(X, base_seeds=np.arange(1, 101).tolist(), num_hashes=10, num_betas=1, num_procs=8)\n",
    "tmp_results = beta_results[1000]"
   ],
   "id": "135e410cda2043a4",
   "outputs": [],
   "execution_count": 16
  },
  {
   "metadata": {
    "ExecuteTime": {
     "end_time": "2025-01-19T16:50:19.696808100Z",
     "start_time": "2025-01-19T15:08:20.903051Z"
    }
   },
   "cell_type": "code",
   "source": "np.median(tmp_results)",
   "id": "aea71a02275bb1fb",
   "outputs": [
    {
     "data": {
      "text/plain": [
       "np.float64(12588.514697650571)"
      ]
     },
     "execution_count": 17,
     "metadata": {},
     "output_type": "execute_result"
    }
   ],
   "execution_count": 17
  },
  {
   "metadata": {
    "ExecuteTime": {
     "end_time": "2025-01-19T16:50:19.697808500Z",
     "start_time": "2025-01-19T15:08:21.395348Z"
    }
   },
   "cell_type": "code",
   "source": "np.mean(tmp_results)",
   "id": "7896975eb1795b57",
   "outputs": [
    {
     "data": {
      "text/plain": [
       "np.float64(12611.921628121405)"
      ]
     },
     "execution_count": 18,
     "metadata": {},
     "output_type": "execute_result"
    }
   ],
   "execution_count": 18
  },
  {
   "metadata": {
    "ExecuteTime": {
     "end_time": "2025-01-19T16:50:19.698807800Z",
     "start_time": "2025-01-19T15:08:21.482744Z"
    }
   },
   "cell_type": "code",
   "source": "np.var(tmp_results) / len(np.unique(X))",
   "id": "64949f80f0a73e06",
   "outputs": [
    {
     "data": {
      "text/plain": [
       "np.float64(9.623186392562172)"
      ]
     },
     "execution_count": 19,
     "metadata": {},
     "output_type": "execute_result"
    }
   ],
   "execution_count": 19
  },
  {
   "metadata": {
    "ExecuteTime": {
     "end_time": "2025-01-19T16:50:19.699808400Z",
     "start_time": "2025-01-19T15:18:21.874296Z"
    }
   },
   "cell_type": "code",
   "source": [
    "plt.hist(tmp_results, bins=25)\n",
    "plt.axvline(x=len(np.unique(X)), color='red', label='actual')\n",
    "plt.axvline(x=np.mean(tmp_results), color='blue', label='mean')\n",
    "plt.axvline(x=np.median(tmp_results), color='yellow', label='median')\n",
    "plt.legend()\n",
    "plt.show()"
   ],
   "id": "5f461b640735b56b",
   "outputs": [
    {
     "data": {
      "text/plain": [
       "<Figure size 640x480 with 1 Axes>"
      ],
      "image/png": "[encoded data removed]"
     },
     "metadata": {},
     "output_type": "display_data"
    }
   ],
   "execution_count": 35
  },
  {
   "metadata": {},
   "cell_type": "markdown",
   "source": "# TODO - why does it look like I have some bias here???",
   "id": "3c33b3bad1bbc2fe"
  },
  {
   "metadata": {
    "ExecuteTime": {
     "end_time": "2025-01-19T16:50:19.700435800Z",
     "start_time": "2025-01-19T15:08:22.182028Z"
    }
   },
   "cell_type": "code",
   "source": [
    "plt.plot(sorted(beta_results.keys()), [np.mean(beta_results[k]) for k in sorted(beta_results.keys())])\n",
    "plt.axhline(y=len(np.unique(X)), color='red', label='actual')\n",
    "plt.show()"
   ],
   "id": "69349b2b6709abbf",
   "outputs": [
    {
     "data": {
      "text/plain": [
       "<Figure size 640x480 with 1 Axes>"
      ],
      "image/png": "[encoded data removed]"
     },
     "metadata": {},
     "output_type": "display_data"
    }
   ],
   "execution_count": 21
  },
  {
   "metadata": {
    "ExecuteTime": {
     "end_time": "2025-01-19T16:50:19.701276500Z",
     "start_time": "2025-01-19T15:08:22.346108Z"
    }
   },
   "cell_type": "code",
   "source": [
    "plt.plot(sorted(beta_results.keys()), [np.median(beta_results[k]) for k in sorted(beta_results.keys())])\n",
    "plt.axhline(y=len(np.unique(X)), color='red', label='actual')\n",
    "plt.show()"
   ],
   "id": "aa8811b6bf44270b",
   "outputs": [
    {
     "data": {
      "text/plain": [
       "<Figure size 640x480 with 1 Axes>"
      ],
      "image/png": "[encoded data removed]"
     },
     "metadata": {},
     "output_type": "display_data"
    }
   ],
   "execution_count": 22
  },
  {
   "metadata": {
    "ExecuteTime": {
     "end_time": "2025-01-19T16:50:19.701276500Z",
     "start_time": "2025-01-19T15:08:22.566922Z"
    }
   },
   "cell_type": "code",
   "source": [
    "plt.plot(sorted(beta_results.keys()), [np.var(beta_results[k]) / len(np.unique(X)) for k in sorted(beta_results.keys())])\n",
    "plt.show()"
   ],
   "id": "d2d487d0b2c59bcf",
   "outputs": [
    {
     "data": {
      "text/plain": [
       "<Figure size 640x480 with 1 Axes>"
      ],
      "image/png": "[encoded data removed]"
     },
     "metadata": {},
     "output_type": "display_data"
    }
   ],
   "execution_count": 23
  },
  {
   "metadata": {
    "ExecuteTime": {
     "end_time": "2025-01-19T16:50:19.701276500Z",
     "start_time": "2025-01-19T15:08:22.822247Z"
    }
   },
   "cell_type": "code",
   "source": "{k: np.var(val) / len(np.unique(X)) for k, val in beta_results.items()}",
   "id": "dd90abaa303ffb2d",
   "outputs": [
    {
     "data": {
      "text/plain": [
       "{10: np.float64(1500.9623883238824),\n",
       " 50: np.float64(276.46580835131874),\n",
       " 100: np.float64(144.13201480550518),\n",
       " 500: np.float64(21.784362807996274),\n",
       " 1000: np.float64(9.623186392562172)}"
      ]
     },
     "execution_count": 24,
     "metadata": {},
     "output_type": "execute_result"
    }
   ],
   "execution_count": 24
  },
  {
   "metadata": {
    "ExecuteTime": {
     "end_time": "2025-01-19T16:50:19.701276500Z",
     "start_time": "2025-01-19T15:17:07.141910Z"
    }
   },
   "cell_type": "code",
   "source": "np.mean(np.array(tmp_results) <= len(np.unique(X)))",
   "id": "463d15595654aa2d",
   "outputs": [
    {
     "data": {
      "text/plain": [
       "np.float64(0.06)"
      ]
     },
     "execution_count": 33,
     "metadata": {},
     "output_type": "execute_result"
    }
   ],
   "execution_count": 33
  },
  {
   "metadata": {},
   "cell_type": "code",
   "outputs": [],
   "execution_count": null,
   "source": "",
   "id": "4a4c2e542d167d5f"
  }
 ],
 "metadata": {
  "kernelspec": {
   "display_name": "Python 3 (ipykernel)",
   "language": "python",
   "name": "python3"
  },
  "language_info": {
   "codemirror_mode": {
    "name": "ipython",
    "version": 3
   },
   "file_extension": ".py",
   "mimetype": "text/x-python",
   "name": "python",
   "nbconvert_exporter": "python",
   "pygments_lexer": "ipython3",
   "version": "3.11.5"
  }
 },
 "nbformat": 4,
 "nbformat_minor": 5
}
