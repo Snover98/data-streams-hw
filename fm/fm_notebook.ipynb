{
 "cells": [
  {
   "cell_type": "code",
   "id": "c9fcd1f9-da4f-4fef-93b8-6a623f78f729",
   "metadata": {
    "tags": [],
    "ExecuteTime": {
     "end_time": "2025-01-18T15:19:27.100851Z",
     "start_time": "2025-01-18T15:19:24.800952Z"
    }
   },
   "source": [
    "import numpy as np\n",
    "from scipy.stats import lognorm\n",
    "import matplotlib.pyplot as plt\n",
    "\n",
    "# import plotly.express as px\n",
    "# import plotly.graph_objects as go"
   ],
   "outputs": [],
   "execution_count": 1
  },
  {
   "cell_type": "code",
   "id": "3ddb7293-2a33-4aa9-9cf4-ebe657fb3887",
   "metadata": {
    "tags": [],
    "ExecuteTime": {
     "end_time": "2025-01-18T15:19:27.155340Z",
     "start_time": "2025-01-18T15:19:27.108861Z"
    }
   },
   "source": "from experiments import run_experiments",
   "outputs": [],
   "execution_count": 2
  },
  {
   "metadata": {},
   "cell_type": "markdown",
   "source": [
    "# The Data\n",
    "## Log-Normal Distribution\n",
    "In order to simulate an annoying real-world distribution, I used the log-normal distribution and rounded the results\n",
    "\n",
    "This causes a large number of uniques, but with heavy-hitters and several lower probability uniques that still show up several times\n",
    "\n",
    "## Sample Random Seed\n",
    "To generate the same sample on several runs, I just used my id as the random seed.\n",
    "\n",
    "## Sample size\n",
    "I choose to use 200,000 (2e5) samples, since it's a nice round number.\n"
   ],
   "id": "43ea0a1fbc4dfa77"
  },
  {
   "metadata": {
    "tags": [],
    "ExecuteTime": {
     "end_time": "2025-01-18T15:19:27.511825Z",
     "start_time": "2025-01-18T15:19:27.494003Z"
    }
   },
   "cell_type": "code",
   "source": "X = lognorm.rvs(5, size=int(2e5), random_state=206783441).astype(int)",
   "id": "89ce72d6-e394-4d2d-afc0-86e7112139df",
   "outputs": [],
   "execution_count": 3
  },
  {
   "metadata": {},
   "cell_type": "markdown",
   "source": [
    "## Number of unique values\n",
    "With the chosen seed I got 37418 unique values - which is matches the criteria"
   ],
   "id": "e36af62403ca4884"
  },
  {
   "cell_type": "code",
   "id": "9bad648c-445e-48e4-a260-81fa70a98143",
   "metadata": {
    "tags": [],
    "ExecuteTime": {
     "end_time": "2025-01-18T15:19:27.538076Z",
     "start_time": "2025-01-18T15:19:27.520559Z"
    }
   },
   "source": [
    "np.unique(X).shape"
   ],
   "outputs": [
    {
     "data": {
      "text/plain": [
       "(12147,)"
      ]
     },
     "execution_count": 4,
     "metadata": {},
     "output_type": "execute_result"
    }
   ],
   "execution_count": 4
  },
  {
   "metadata": {},
   "cell_type": "markdown",
   "source": [
    "## How the distributions looks\n",
    "We can see what I mean - many heavy hitters close to 0, but plenty of uniques"
   ],
   "id": "c9d6df4da2ca943"
  },
  {
   "metadata": {
    "ExecuteTime": {
     "end_time": "2025-01-18T15:19:28.111597Z",
     "start_time": "2025-01-18T15:19:27.562888Z"
    }
   },
   "cell_type": "code",
   "source": [
    "plt.hist(X, bins=np.arange(1, 200))\n",
    "plt.show()"
   ],
   "id": "4095aef997dc2bc3",
   "outputs": [
    {
     "data": {
      "text/plain": [
       "<Figure size 640x480 with 1 Axes>"
      ],
      "image/png": "[encoded data removed]"
     },
     "metadata": {},
     "output_type": "display_data"
    }
   ],
   "execution_count": 5
  },
  {
   "metadata": {},
   "cell_type": "markdown",
   "source": [
    "# Experiments\n",
    "## Parameters\n",
    "I ran 100 different experiments for each estimator and config, with the seeds being the values 1 to 100 for each one.\n",
    "\n",
    "I used the seed to init the random hash function (the way it works is further elaborated in the file `experiments.py`) and besides that everthing else is deterministic"
   ],
   "id": "bbb021522d7adf9"
  },
  {
   "metadata": {},
   "cell_type": "markdown",
   "source": [
    "## Single $\\alpha$ estimator\n",
    "Here I ran a full FM estimator with a single hash function and a single $\\beta$ estimator - which is just an $\\alpha$ estimator"
   ],
   "id": "9a27fa89859c78e2"
  },
  {
   "cell_type": "code",
   "id": "ae6b0b1a-575a-4223-8f76-780211bfed49",
   "metadata": {
    "tags": [],
    "ExecuteTime": {
     "end_time": "2025-01-18T15:19:41.486237Z",
     "start_time": "2025-01-18T15:19:28.121707Z"
    }
   },
   "source": "alpha_results = run_experiments(X, base_seeds=np.arange(1, 101).tolist(), num_hashes=1, num_betas=1, num_procs=7)",
   "outputs": [
    {
     "name": "stderr",
     "output_type": "stream",
     "text": [
      "100%|██████████| 100/100 [00:13<00:00,  7.65it/s]\n"
     ]
    }
   ],
   "execution_count": 6
  },
  {
   "metadata": {},
   "cell_type": "markdown",
   "source": [
    "### The results\n",
    "We can already see that median is really far from the actual value (around twice!)"
   ],
   "id": "d19df4b7b47e5f0e"
  },
  {
   "cell_type": "code",
   "id": "13d6a241-1442-48c1-8a4f-b441794b9122",
   "metadata": {
    "tags": [],
    "ExecuteTime": {
     "end_time": "2025-01-18T15:19:41.504828Z",
     "start_time": "2025-01-18T15:19:41.496407Z"
    }
   },
   "source": "np.median(alpha_results)",
   "outputs": [
    {
     "data": {
      "text/plain": [
       "np.float64(201309.8023417926)"
      ]
     },
     "execution_count": 7,
     "metadata": {},
     "output_type": "execute_result"
    }
   ],
   "execution_count": 7
  },
  {
   "metadata": {},
   "cell_type": "markdown",
   "source": "The mean is even worse, most likely due to outliers (as we'll see later)",
   "id": "a495667ba3f7f091"
  },
  {
   "metadata": {
    "ExecuteTime": {
     "end_time": "2025-01-18T15:19:41.529277Z",
     "start_time": "2025-01-18T15:19:41.514693Z"
    }
   },
   "cell_type": "code",
   "source": "np.mean(alpha_results)",
   "id": "c2166fec9bc38e05",
   "outputs": [
    {
     "data": {
      "text/plain": [
       "np.float64(188657.75878364846)"
      ]
     },
     "execution_count": 8,
     "metadata": {},
     "output_type": "execute_result"
    }
   ],
   "execution_count": 8
  },
  {
   "metadata": {},
   "cell_type": "markdown",
   "source": "The normalized variance is also insane - it's more than 53 million",
   "id": "212aea383e3899f1"
  },
  {
   "metadata": {
    "ExecuteTime": {
     "end_time": "2025-01-18T15:19:41.561606Z",
     "start_time": "2025-01-18T15:19:41.540056Z"
    }
   },
   "cell_type": "code",
   "source": "np.var(alpha_results) / len(np.unique(X))",
   "id": "83b6689ae976fcaf",
   "outputs": [
    {
     "data": {
      "text/plain": [
       "np.float64(16986435.02892328)"
      ]
     },
     "execution_count": 9,
     "metadata": {},
     "output_type": "execute_result"
    }
   ],
   "execution_count": 9
  },
  {
   "metadata": {},
   "cell_type": "markdown",
   "source": "when we plot a histogram of the values with the actual number of uniques, the mean, and the median - we can see that they are not even close!",
   "id": "d62e79b05fb87ee0"
  },
  {
   "metadata": {
    "ExecuteTime": {
     "end_time": "2025-01-18T15:19:41.886126Z",
     "start_time": "2025-01-18T15:19:41.617994Z"
    }
   },
   "cell_type": "code",
   "source": [
    "plt.hist(alpha_results, bins=50)\n",
    "plt.axvline(x=len(np.unique(X)), color='red', label='actual')\n",
    "plt.axvline(x=np.mean(alpha_results), color='blue', label='mean')\n",
    "plt.axvline(x=np.median(alpha_results), color='yellow', label='median')\n",
    "plt.legend()\n",
    "plt.show()"
   ],
   "id": "52a7d968851f4a16",
   "outputs": [
    {
     "data": {
      "text/plain": [
       "<Figure size 640x480 with 1 Axes>"
      ],
      "image/png": "[encoded data removed]"
     },
     "metadata": {},
     "output_type": "display_data"
    }
   ],
   "execution_count": 10
  },
  {
   "metadata": {},
   "cell_type": "markdown",
   "source": "If we zoom in a bit, we can see that the median has most values around it, while the actual value is the **16th percentile!**",
   "id": "2dc2918808ebf551"
  },
  {
   "metadata": {
    "ExecuteTime": {
     "end_time": "2025-01-18T15:19:41.912767Z",
     "start_time": "2025-01-18T15:19:41.897475Z"
    }
   },
   "cell_type": "code",
   "source": "np.mean(np.array(alpha_results) <= len(np.unique(X)))",
   "id": "1dac5b619ba6cc43",
   "outputs": [
    {
     "data": {
      "text/plain": [
       "np.float64(0.16)"
      ]
     },
     "execution_count": 11,
     "metadata": {},
     "output_type": "execute_result"
    }
   ],
   "execution_count": 11
  },
  {
   "metadata": {
    "ExecuteTime": {
     "end_time": "2025-01-18T15:19:42.181342Z",
     "start_time": "2025-01-18T15:19:41.924197Z"
    }
   },
   "cell_type": "code",
   "source": [
    "bins = np.linspace(np.min(alpha_results), np.percentile(alpha_results, 95), 50).tolist()\n",
    "plt.hist(alpha_results, bins=sorted(bins))\n",
    "plt.axvline(x=len(np.unique(X)), color='red', label='actual')\n",
    "plt.axvline(x=np.mean(alpha_results), color='blue', label='median')\n",
    "plt.axvline(x=np.median(alpha_results), color='yellow', label='median')\n",
    "plt.legend()\n",
    "plt.show()"
   ],
   "id": "c21755df728478e2",
   "outputs": [
    {
     "data": {
      "text/plain": [
       "<Figure size 640x480 with 1 Axes>"
      ],
      "image/png": "[encoded data removed]"
     },
     "metadata": {},
     "output_type": "display_data"
    }
   ],
   "execution_count": 12
  },
  {
   "metadata": {},
   "cell_type": "markdown",
   "source": "this shows that as we learned at class, the $\\alpha$ estimator has way too much variance to be used as is",
   "id": "c59a72f9cb0e33e3"
  },
  {
   "metadata": {},
   "cell_type": "markdown",
   "source": [
    "## Single $\\beta$ estimator\n",
    "Here I ran a full FM estimator with a several hash functions and a single $\\beta$ estimator - which is just a $\\beta$ estimator"
   ],
   "id": "93670ac3f1ea1063"
  },
  {
   "metadata": {},
   "cell_type": "markdown",
   "source": [
    "### Evaluated sketch sizes\n",
    "For the beta estimator, I ran the same number of experiments with the following sketch sizes: $k = [10, 50, 100, 500, 1000]$"
   ],
   "id": "5218f5b412a1e0d8"
  },
  {
   "metadata": {
    "ExecuteTime": {
     "end_time": "2025-01-18T15:19:42.197214Z",
     "start_time": "2025-01-18T15:19:42.192933Z"
    }
   },
   "cell_type": "code",
   "source": "beta_sketch_sizes = [10, 50, 100, 500, 1000]",
   "id": "2371dabef3840d83",
   "outputs": [],
   "execution_count": 13
  },
  {
   "metadata": {},
   "cell_type": "markdown",
   "source": [
    "### Other Parameters\n",
    "Due to the computation times, here I just ran 50 experiments for each sketch size - for the larger sketch sizes it took quite a while"
   ],
   "id": "bf82b43d7e0896a2"
  },
  {
   "cell_type": "code",
   "id": "5be0c961-52b1-4a2c-a630-727d8ee15ec5",
   "metadata": {
    "ExecuteTime": {
     "end_time": "2025-01-18T16:16:30.339514Z",
     "start_time": "2025-01-18T15:19:42.225333Z"
    }
   },
   "source": [
    "beta_results = {\n",
    "    sketch_size: run_experiments(X, base_seeds=np.arange(1, 51).tolist(), num_hashes=sketch_size, num_betas=1, num_procs=7)\n",
    "    for sketch_size in beta_sketch_sizes\n",
    "}"
   ],
   "outputs": [
    {
     "name": "stderr",
     "output_type": "stream",
     "text": [
      "100%|██████████| 50/50 [00:43<00:00,  1.16it/s]\n",
      "100%|██████████| 50/50 [02:25<00:00,  2.90s/it]\n",
      "100%|██████████| 50/50 [04:19<00:00,  5.19s/it]\n",
      "100%|██████████| 50/50 [16:42<00:00, 20.05s/it]  \n",
      "100%|██████████| 50/50 [32:34<00:00, 39.09s/it]  \n"
     ]
    }
   ],
   "execution_count": 14
  },
  {
   "metadata": {
    "ExecuteTime": {
     "end_time": "2025-01-18T16:16:30.415746Z",
     "start_time": "2025-01-18T16:16:30.398614Z"
    }
   },
   "cell_type": "code",
   "source": [
    "import pickle\n",
    "with open('beta_results.pkl', 'wb') as f:\n",
    "    pickle.dump(beta_results, f)"
   ],
   "id": "67b7a5bd098e5926",
   "outputs": [],
   "execution_count": 15
  },
  {
   "metadata": {
    "ExecuteTime": {
     "end_time": "2025-01-18T16:16:38.050828Z",
     "start_time": "2025-01-18T16:16:38.044125Z"
    }
   },
   "cell_type": "code",
   "source": [
    "# tmp_results = run_experiments(X, base_seeds=np.arange(1, 101).tolist(), num_hashes=10, num_betas=1, num_procs=8)\n",
    "tmp_results = beta_results[1000]"
   ],
   "id": "135e410cda2043a4",
   "outputs": [],
   "execution_count": 24
  },
  {
   "metadata": {
    "ExecuteTime": {
     "end_time": "2025-01-18T16:16:38.491428Z",
     "start_time": "2025-01-18T16:16:38.484062Z"
    }
   },
   "cell_type": "code",
   "source": "np.median(tmp_results)",
   "id": "aea71a02275bb1fb",
   "outputs": [
    {
     "data": {
      "text/plain": [
       "np.float64(23285.114502584074)"
      ]
     },
     "execution_count": 25,
     "metadata": {},
     "output_type": "execute_result"
    }
   ],
   "execution_count": 25
  },
  {
   "metadata": {
    "ExecuteTime": {
     "end_time": "2025-01-18T16:16:38.756228Z",
     "start_time": "2025-01-18T16:16:38.750336Z"
    }
   },
   "cell_type": "code",
   "source": "np.mean(tmp_results)",
   "id": "7896975eb1795b57",
   "outputs": [
    {
     "data": {
      "text/plain": [
       "np.float64(23353.391695256756)"
      ]
     },
     "execution_count": 26,
     "metadata": {},
     "output_type": "execute_result"
    }
   ],
   "execution_count": 26
  },
  {
   "metadata": {
    "ExecuteTime": {
     "end_time": "2025-01-18T16:16:39.014867Z",
     "start_time": "2025-01-18T16:16:39.001245Z"
    }
   },
   "cell_type": "code",
   "source": "np.var(tmp_results) / len(np.unique(X))",
   "id": "64949f80f0a73e06",
   "outputs": [
    {
     "data": {
      "text/plain": [
       "np.float64(70.70787601949027)"
      ]
     },
     "execution_count": 27,
     "metadata": {},
     "output_type": "execute_result"
    }
   ],
   "execution_count": 27
  },
  {
   "metadata": {
    "ExecuteTime": {
     "end_time": "2025-01-18T16:16:39.989610Z",
     "start_time": "2025-01-18T16:16:39.737049Z"
    }
   },
   "cell_type": "code",
   "source": [
    "plt.hist(tmp_results, bins=25)\n",
    "plt.axvline(x=len(np.unique(X)), color='red', label='actual')\n",
    "plt.axvline(x=np.mean(tmp_results), color='blue', label='mean')\n",
    "plt.axvline(x=np.median(tmp_results), color='yellow', label='median')\n",
    "plt.legend()\n",
    "plt.show()"
   ],
   "id": "5f461b640735b56b",
   "outputs": [
    {
     "data": {
      "text/plain": [
       "<Figure size 640x480 with 1 Axes>"
      ],
      "image/png": "[encoded data removed]"
     },
     "metadata": {},
     "output_type": "display_data"
    }
   ],
   "execution_count": 28
  },
  {
   "metadata": {},
   "cell_type": "markdown",
   "source": "# TODO - why does it look like I have some bias here???",
   "id": "3c33b3bad1bbc2fe"
  },
  {
   "metadata": {
    "ExecuteTime": {
     "end_time": "2025-01-18T16:16:47.226025Z",
     "start_time": "2025-01-18T16:16:47.062099Z"
    }
   },
   "cell_type": "code",
   "source": [
    "plt.plot(sorted(beta_results.keys()), [np.mean(beta_results[k]) for k in sorted(beta_results.keys())])\n",
    "plt.axhline(y=len(np.unique(X)), color='red', label='actual')\n",
    "plt.show()"
   ],
   "id": "69349b2b6709abbf",
   "outputs": [
    {
     "data": {
      "text/plain": [
       "<Figure size 640x480 with 1 Axes>"
      ],
      "image/png": "[encoded data removed]"
     },
     "metadata": {},
     "output_type": "display_data"
    }
   ],
   "execution_count": 29
  },
  {
   "metadata": {
    "ExecuteTime": {
     "end_time": "2025-01-18T16:16:52.384360Z",
     "start_time": "2025-01-18T16:16:52.245468Z"
    }
   },
   "cell_type": "code",
   "source": [
    "plt.plot(sorted(beta_results.keys()), [np.median(beta_results[k]) for k in sorted(beta_results.keys())])\n",
    "plt.axhline(y=len(np.unique(X)), color='red', label='actual')\n",
    "plt.show()"
   ],
   "id": "aa8811b6bf44270b",
   "outputs": [
    {
     "data": {
      "text/plain": [
       "<Figure size 640x480 with 1 Axes>"
      ],
      "image/png": "[encoded data removed]"
     },
     "metadata": {},
     "output_type": "display_data"
    }
   ],
   "execution_count": 30
  },
  {
   "metadata": {
    "ExecuteTime": {
     "end_time": "2025-01-18T16:16:54.832272Z",
     "start_time": "2025-01-18T16:16:54.668174Z"
    }
   },
   "cell_type": "code",
   "source": [
    "plt.plot(sorted(beta_results.keys()), [np.var(beta_results[k]) / len(np.unique(X)) for k in sorted(beta_results.keys())])\n",
    "plt.show()"
   ],
   "id": "d2d487d0b2c59bcf",
   "outputs": [
    {
     "data": {
      "text/plain": [
       "<Figure size 640x480 with 1 Axes>"
      ],
      "image/png": "[encoded data removed]"
     },
     "metadata": {},
     "output_type": "display_data"
    }
   ],
   "execution_count": 31
  },
  {
   "metadata": {
    "ExecuteTime": {
     "end_time": "2025-01-18T16:17:45.273776Z",
     "start_time": "2025-01-18T16:17:45.236563Z"
    }
   },
   "cell_type": "code",
   "source": "{k: np.var(val) / len(np.unique(X)) for k, val in beta_results.items()}",
   "id": "dd90abaa303ffb2d",
   "outputs": [
    {
     "data": {
      "text/plain": [
       "{10: np.float64(75699.07594703049),\n",
       " 50: np.float64(1522.9848580868274),\n",
       " 100: np.float64(870.6673567535219),\n",
       " 500: np.float64(256.78576305962474),\n",
       " 1000: np.float64(70.70787601949027)}"
      ]
     },
     "execution_count": 32,
     "metadata": {},
     "output_type": "execute_result"
    }
   ],
   "execution_count": 32
  },
  {
   "metadata": {},
   "cell_type": "code",
   "outputs": [],
   "execution_count": null,
   "source": "",
   "id": "463d15595654aa2d"
  }
 ],
 "metadata": {
  "kernelspec": {
   "display_name": "Python 3 (ipykernel)",
   "language": "python",
   "name": "python3"
  },
  "language_info": {
   "codemirror_mode": {
    "name": "ipython",
    "version": 3
   },
   "file_extension": ".py",
   "mimetype": "text/x-python",
   "name": "python",
   "nbconvert_exporter": "python",
   "pygments_lexer": "ipython3",
   "version": "3.11.5"
  }
 },
 "nbformat": 4,
 "nbformat_minor": 5
}
