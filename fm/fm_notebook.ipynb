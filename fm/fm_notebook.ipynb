{
 "cells": [
  {
   "cell_type": "code",
   "id": "c9fcd1f9-da4f-4fef-93b8-6a623f78f729",
   "metadata": {
    "tags": [],
    "ExecuteTime": {
     "end_time": "2025-01-18T13:10:59.341480Z",
     "start_time": "2025-01-18T13:10:57.388242Z"
    }
   },
   "source": [
    "import numpy as np\n",
    "from scipy.stats import lognorm\n",
    "import matplotlib.pyplot as plt\n",
    "\n",
    "# import plotly.express as px\n",
    "# import plotly.graph_objects as go"
   ],
   "outputs": [],
   "execution_count": 1
  },
  {
   "cell_type": "code",
   "id": "3ddb7293-2a33-4aa9-9cf4-ebe657fb3887",
   "metadata": {
    "tags": [],
    "ExecuteTime": {
     "end_time": "2025-01-18T13:10:59.391915Z",
     "start_time": "2025-01-18T13:10:59.341480Z"
    }
   },
   "source": "from experiments import run_experiments",
   "outputs": [],
   "execution_count": 2
  },
  {
   "metadata": {},
   "cell_type": "markdown",
   "source": [
    "# The Data\n",
    "## Log-Normal Distribution\n",
    "In order to simulate an annoying real-world distribution, I used the log-normal distribution and rounded the results\n",
    "\n",
    "This causes a large number of uniques, but with heavy-hitters and several lower probability uniques that still show up several times\n",
    "\n",
    "## Sample Random Seed\n",
    "To generate the same sample on several runs, I just used my id as the random seed.\n",
    "\n",
    "## Sample size\n",
    "I choose to use a million (1e6) samples, since it's a nice round number.\n"
   ],
   "id": "43ea0a1fbc4dfa77"
  },
  {
   "metadata": {
    "tags": [],
    "ExecuteTime": {
     "end_time": "2025-01-18T13:10:59.826415Z",
     "start_time": "2025-01-18T13:10:59.744842Z"
    }
   },
   "cell_type": "code",
   "source": "X = lognorm.rvs(5, size=int(1e6), random_state=206783441).astype(int)",
   "id": "89ce72d6-e394-4d2d-afc0-86e7112139df",
   "outputs": [],
   "execution_count": 3
  },
  {
   "metadata": {},
   "cell_type": "markdown",
   "source": [
    "## Number of unique values\n",
    "With the chosen seed I got 37418 unique values - which is matches the criteria"
   ],
   "id": "e36af62403ca4884"
  },
  {
   "cell_type": "code",
   "id": "9bad648c-445e-48e4-a260-81fa70a98143",
   "metadata": {
    "tags": [],
    "ExecuteTime": {
     "end_time": "2025-01-18T13:10:59.888139Z",
     "start_time": "2025-01-18T13:10:59.837359Z"
    }
   },
   "source": [
    "np.unique(X).shape"
   ],
   "outputs": [
    {
     "data": {
      "text/plain": [
       "(37418,)"
      ]
     },
     "execution_count": 4,
     "metadata": {},
     "output_type": "execute_result"
    }
   ],
   "execution_count": 4
  },
  {
   "metadata": {},
   "cell_type": "markdown",
   "source": [
    "## How the distributions looks\n",
    "We can see what I mean - many heavy hitters close to 0, but plenty of uniques"
   ],
   "id": "c9d6df4da2ca943"
  },
  {
   "metadata": {
    "ExecuteTime": {
     "end_time": "2025-01-18T13:11:00.470281Z",
     "start_time": "2025-01-18T13:10:59.900676Z"
    }
   },
   "cell_type": "code",
   "source": [
    "plt.hist(X, bins=np.arange(1, 200))\n",
    "plt.show()"
   ],
   "id": "4095aef997dc2bc3",
   "outputs": [
    {
     "data": {
      "text/plain": [
       "<Figure size 640x480 with 1 Axes>"
      ],
      "image/png": "[encoded data removed]"
     },
     "metadata": {},
     "output_type": "display_data"
    }
   ],
   "execution_count": 5
  },
  {
   "metadata": {},
   "cell_type": "markdown",
   "source": [
    "# Experiments\n",
    "## Parameters\n",
    "I ran 100 different experiments for each estimator and config, with the seeds being the values 1 to 100 for each one.\n",
    "\n",
    "I used the seed to init the random hash function (the way it works is further elaborated in the file `experiments.py`) and besides that everthing else is deterministic"
   ],
   "id": "bbb021522d7adf9"
  },
  {
   "metadata": {},
   "cell_type": "markdown",
   "source": [
    "## Single $\\alpha$ estimator\n",
    "Here I ran a full FM estimator with a single hash function and a single $\\beta$ estimator - which is just an $\\alpha$ estimator"
   ],
   "id": "9a27fa89859c78e2"
  },
  {
   "cell_type": "code",
   "id": "ae6b0b1a-575a-4223-8f76-780211bfed49",
   "metadata": {
    "tags": [],
    "ExecuteTime": {
     "end_time": "2025-01-18T13:11:46.121629Z",
     "start_time": "2025-01-18T13:11:00.491860Z"
    }
   },
   "source": "alpha_results = run_experiments(X, base_seeds=np.arange(1, 101).tolist(), num_hashes=1, num_betas=1, num_procs=7)",
   "outputs": [
    {
     "name": "stderr",
     "output_type": "stream",
     "text": [
      "100%|██████████| 100/100 [00:45<00:00,  2.21it/s]\n"
     ]
    }
   ],
   "execution_count": 6
  },
  {
   "metadata": {},
   "cell_type": "markdown",
   "source": [
    "### The results\n",
    "We can already see that median is really far from the actual value (around twice!)"
   ],
   "id": "d19df4b7b47e5f0e"
  },
  {
   "cell_type": "code",
   "id": "13d6a241-1442-48c1-8a4f-b441794b9122",
   "metadata": {
    "tags": [],
    "ExecuteTime": {
     "end_time": "2025-01-18T13:11:46.146643Z",
     "start_time": "2025-01-18T13:11:46.134721Z"
    }
   },
   "source": "np.median(alpha_results)",
   "outputs": [
    {
     "data": {
      "text/plain": [
       "np.float64(201309.8023417926)"
      ]
     },
     "execution_count": 7,
     "metadata": {},
     "output_type": "execute_result"
    }
   ],
   "execution_count": 7
  },
  {
   "metadata": {},
   "cell_type": "markdown",
   "source": "The mean is even worse, most likely due to outliers (as we'll see later)",
   "id": "a495667ba3f7f091"
  },
  {
   "metadata": {
    "ExecuteTime": {
     "end_time": "2025-01-18T13:11:46.192651Z",
     "start_time": "2025-01-18T13:11:46.175058Z"
    }
   },
   "cell_type": "code",
   "source": "np.mean(alpha_results)",
   "id": "c2166fec9bc38e05",
   "outputs": [
    {
     "data": {
      "text/plain": [
       "np.float64(421458.64660335844)"
      ]
     },
     "execution_count": 8,
     "metadata": {},
     "output_type": "execute_result"
    }
   ],
   "execution_count": 8
  },
  {
   "metadata": {},
   "cell_type": "markdown",
   "source": "The normalized variance is also insane - it's more than 2.9 million",
   "id": "212aea383e3899f1"
  },
  {
   "metadata": {
    "ExecuteTime": {
     "end_time": "2025-01-18T13:11:46.256686Z",
     "start_time": "2025-01-18T13:11:46.204669Z"
    }
   },
   "cell_type": "code",
   "source": "np.var(alpha_results) / len(np.unique(X))",
   "id": "83b6689ae976fcaf",
   "outputs": [
    {
     "data": {
      "text/plain": [
       "np.float64(53393774.54462497)"
      ]
     },
     "execution_count": 9,
     "metadata": {},
     "output_type": "execute_result"
    }
   ],
   "execution_count": 9
  },
  {
   "metadata": {},
   "cell_type": "markdown",
   "source": "when we plot a histogram of the values with the actual number of uniques, the mean, and the median - we can see that they are not even close!",
   "id": "d62e79b05fb87ee0"
  },
  {
   "metadata": {
    "ExecuteTime": {
     "end_time": "2025-01-18T14:47:11.508060Z",
     "start_time": "2025-01-18T14:47:11.228473Z"
    }
   },
   "cell_type": "code",
   "source": [
    "plt.hist(alpha_results, bins=50)\n",
    "plt.axvline(x=len(np.unique(X)), color='red', label='actual')\n",
    "plt.axvline(x=np.mean(alpha_results), color='blue', label='mean')\n",
    "plt.axvline(x=np.median(alpha_results), color='yellow', label='median')\n",
    "plt.legend()\n",
    "plt.show()"
   ],
   "id": "52a7d968851f4a16",
   "outputs": [
    {
     "data": {
      "text/plain": [
       "<Figure size 640x480 with 1 Axes>"
      ],
      "image/png": "[encoded data removed]"
     },
     "metadata": {},
     "output_type": "display_data"
    }
   ],
   "execution_count": 34
  },
  {
   "metadata": {},
   "cell_type": "markdown",
   "source": "If we zoom in a bit, we can see that the median has most values around it, while the actual value is the **15th percentile!**",
   "id": "2dc2918808ebf551"
  },
  {
   "metadata": {
    "ExecuteTime": {
     "end_time": "2025-01-18T14:52:53.697429Z",
     "start_time": "2025-01-18T14:52:53.653676Z"
    }
   },
   "cell_type": "code",
   "source": "np.mean(np.array(alpha_results) <= len(np.unique(X)))",
   "id": "1dac5b619ba6cc43",
   "outputs": [
    {
     "data": {
      "text/plain": [
       "np.float64(0.15)"
      ]
     },
     "execution_count": 53,
     "metadata": {},
     "output_type": "execute_result"
    }
   ],
   "execution_count": 53
  },
  {
   "metadata": {
    "ExecuteTime": {
     "end_time": "2025-01-18T14:50:52.623805Z",
     "start_time": "2025-01-18T14:50:52.346407Z"
    }
   },
   "cell_type": "code",
   "source": [
    "bins = np.linspace(np.min(alpha_results), np.percentile(alpha_results, 75), 25).tolist() + \\\n",
    "       np.linspace(np.percentile(alpha_results, 75), np.percentile(alpha_results, 95), 25).tolist()\n",
    "plt.hist(alpha_results, bins=sorted(bins))\n",
    "plt.axvline(x=len(np.unique(X)), color='red', label='actual')\n",
    "plt.axvline(x=np.mean(alpha_results), color='blue', label='median')\n",
    "plt.axvline(x=np.median(alpha_results), color='yellow', label='median')\n",
    "plt.legend()\n",
    "plt.show()"
   ],
   "id": "c21755df728478e2",
   "outputs": [
    {
     "data": {
      "text/plain": [
       "<Figure size 640x480 with 1 Axes>"
      ],
      "image/png": "[encoded data removed]"
     },
     "metadata": {},
     "output_type": "display_data"
    }
   ],
   "execution_count": 50
  },
  {
   "metadata": {},
   "cell_type": "markdown",
   "source": "this shows that as we learned at class, the $\\alpha$ estimator has way too much variance to be used as is",
   "id": "c59a72f9cb0e33e3"
  },
  {
   "metadata": {},
   "cell_type": "markdown",
   "source": [
    "## Single $\\beta$ estimator\n",
    "Here I ran a full FM estimator with a several hash functions and a single $\\beta$ estimator - which is just a $\\beta$ estimator"
   ],
   "id": "93670ac3f1ea1063"
  },
  {
   "metadata": {},
   "cell_type": "markdown",
   "source": [
    "### Evaluated sketch sizes\n",
    "For the beta estimator, I ran the same number of experiments with the following sketch sizes: $k = [10, 50, 100, 500]$"
   ],
   "id": "5218f5b412a1e0d8"
  },
  {
   "metadata": {
    "ExecuteTime": {
     "end_time": "2025-01-18T13:11:46.600985Z",
     "start_time": "2025-01-18T13:11:46.591588Z"
    }
   },
   "cell_type": "code",
   "source": "beta_sketch_sizes = [10, 50, 100, 500]",
   "id": "2371dabef3840d83",
   "outputs": [],
   "execution_count": 11
  },
  {
   "metadata": {},
   "cell_type": "markdown",
   "source": [
    "### Other Parameters\n",
    "Due to the computation times, here I just ran 50 experiments for each sketch size - for the larger sketch sizes it took quite a while"
   ],
   "id": "bf82b43d7e0896a2"
  },
  {
   "cell_type": "code",
   "id": "5be0c961-52b1-4a2c-a630-727d8ee15ec5",
   "metadata": {
    "ExecuteTime": {
     "end_time": "2025-01-18T14:42:36.064365Z",
     "start_time": "2025-01-18T13:11:46.617649Z"
    }
   },
   "source": [
    "beta_results = {\n",
    "    sketch_size: run_experiments(X, base_seeds=np.arange(1, 51).tolist(), num_hashes=sketch_size, num_betas=1, num_procs=7)\n",
    "    for sketch_size in beta_sketch_sizes\n",
    "}"
   ],
   "outputs": [
    {
     "name": "stderr",
     "output_type": "stream",
     "text": [
      "100%|██████████| 50/50 [02:38<00:00,  3.17s/it]\n",
      "100%|██████████| 50/50 [08:44<00:00, 10.49s/it]  \n",
      "100%|██████████| 50/50 [15:22<00:00, 18.46s/it]  \n",
      "100%|██████████| 50/50 [1:04:00<00:00, 76.80s/it] \n"
     ]
    }
   ],
   "execution_count": 12
  },
  {
   "metadata": {
    "ExecuteTime": {
     "end_time": "2025-01-18T14:42:37.101998Z",
     "start_time": "2025-01-18T14:42:37.089461Z"
    }
   },
   "cell_type": "code",
   "source": [
    "import pickle\n",
    "with open('beta_results.pkl', 'wb') as f:\n",
    "    pickle.dump(beta_results, f)"
   ],
   "id": "67b7a5bd098e5926",
   "outputs": [],
   "execution_count": 19
  },
  {
   "metadata": {
    "ExecuteTime": {
     "end_time": "2025-01-18T14:42:36.141812Z",
     "start_time": "2025-01-18T14:42:36.134037Z"
    }
   },
   "cell_type": "code",
   "source": [
    "# tmp_results = run_experiments(X, base_seeds=np.arange(1, 101).tolist(), num_hashes=10, num_betas=1, num_procs=8)\n",
    "tmp_results = beta_results[10]"
   ],
   "id": "135e410cda2043a4",
   "outputs": [],
   "execution_count": 13
  },
  {
   "metadata": {
    "ExecuteTime": {
     "end_time": "2025-01-18T14:42:36.202065Z",
     "start_time": "2025-01-18T14:42:36.188636Z"
    }
   },
   "cell_type": "code",
   "source": "np.median(tmp_results)",
   "id": "aea71a02275bb1fb",
   "outputs": [
    {
     "data": {
      "text/plain": [
       "np.float64(97718.11388261715)"
      ]
     },
     "execution_count": 14,
     "metadata": {},
     "output_type": "execute_result"
    }
   ],
   "execution_count": 14
  },
  {
   "metadata": {
    "ExecuteTime": {
     "end_time": "2025-01-18T14:42:36.254863Z",
     "start_time": "2025-01-18T14:42:36.247081Z"
    }
   },
   "cell_type": "code",
   "source": "np.mean(tmp_results)",
   "id": "7896975eb1795b57",
   "outputs": [
    {
     "data": {
      "text/plain": [
       "np.float64(105683.21876276238)"
      ]
     },
     "execution_count": 15,
     "metadata": {},
     "output_type": "execute_result"
    }
   ],
   "execution_count": 15
  },
  {
   "metadata": {
    "ExecuteTime": {
     "end_time": "2025-01-18T14:42:36.344743Z",
     "start_time": "2025-01-18T14:42:36.296973Z"
    }
   },
   "cell_type": "code",
   "source": "np.var(tmp_results) / len(np.unique(X))",
   "id": "64949f80f0a73e06",
   "outputs": [
    {
     "data": {
      "text/plain": [
       "np.float64(73114.22657305066)"
      ]
     },
     "execution_count": 16,
     "metadata": {},
     "output_type": "execute_result"
    }
   ],
   "execution_count": 16
  },
  {
   "metadata": {
    "ExecuteTime": {
     "end_time": "2025-01-18T14:42:36.726868Z",
     "start_time": "2025-01-18T14:42:36.369541Z"
    }
   },
   "cell_type": "code",
   "source": [
    "plt.hist(tmp_results, bins=50)\n",
    "plt.axvline(x=len(np.unique(X)), color='red', label='actual')\n",
    "plt.axvline(x=np.mean(tmp_results), color='blue', label='median')\n",
    "plt.axvline(x=np.median(tmp_results), color='yellow', label='median')\n",
    "plt.legend()\n",
    "plt.show()"
   ],
   "id": "5f461b640735b56b",
   "outputs": [
    {
     "data": {
      "text/plain": [
       "<Figure size 640x480 with 1 Axes>"
      ],
      "image/png": "[encoded data removed]"
     },
     "metadata": {},
     "output_type": "display_data"
    }
   ],
   "execution_count": 17
  },
  {
   "metadata": {
    "ExecuteTime": {
     "end_time": "2025-01-18T14:42:36.746440Z",
     "start_time": "2025-01-18T14:42:36.741981Z"
    }
   },
   "cell_type": "code",
   "source": "",
   "id": "69349b2b6709abbf",
   "outputs": [],
   "execution_count": null
  }
 ],
 "metadata": {
  "kernelspec": {
   "display_name": "Python 3 (ipykernel)",
   "language": "python",
   "name": "python3"
  },
  "language_info": {
   "codemirror_mode": {
    "name": "ipython",
    "version": 3
   },
   "file_extension": ".py",
   "mimetype": "text/x-python",
   "name": "python",
   "nbconvert_exporter": "python",
   "pygments_lexer": "ipython3",
   "version": "3.11.5"
  }
 },
 "nbformat": 4,
 "nbformat_minor": 5
}
