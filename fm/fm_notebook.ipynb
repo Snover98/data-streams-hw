{
 "cells": [
  {
   "cell_type": "code",
   "id": "c9fcd1f9-da4f-4fef-93b8-6a623f78f729",
   "metadata": {
    "tags": [],
    "ExecuteTime": {
     "end_time": "2025-01-25T06:11:28.295316Z",
     "start_time": "2025-01-25T06:11:19.971886Z"
    }
   },
   "source": [
    "import numpy as np\n",
    "from scipy.stats import lognorm\n",
    "import matplotlib.pyplot as plt\n",
    "\n",
    "# import plotly.express as px\n",
    "# import plotly.graph_objects as go"
   ],
   "outputs": [],
   "execution_count": 1
  },
  {
   "cell_type": "code",
   "id": "3ddb7293-2a33-4aa9-9cf4-ebe657fb3887",
   "metadata": {
    "tags": [],
    "ExecuteTime": {
     "end_time": "2025-01-25T06:11:28.445910Z",
     "start_time": "2025-01-25T06:11:28.326329Z"
    }
   },
   "source": "from experiments import run_experiments",
   "outputs": [],
   "execution_count": 2
  },
  {
   "metadata": {},
   "cell_type": "markdown",
   "source": [
    "# The Data\n",
    "## Log-Normal Distribution\n",
    "In order to simulate an annoying real-world distribution, I used the log-normal distribution and rounded the results\n",
    "\n",
    "This causes a large number of uniques, but with heavy-hitters and several lower probability uniques that still show up several times\n",
    "\n",
    "## Sample Random Seed\n",
    "To generate the same sample on several runs, I just used my id as the random seed.\n",
    "\n",
    "## Sample size\n",
    "I choose to use 200,000 (2e5) samples, since it's a nice round number.\n"
   ],
   "id": "43ea0a1fbc4dfa77"
  },
  {
   "metadata": {
    "tags": [],
    "ExecuteTime": {
     "end_time": "2025-01-25T06:11:29.082575Z",
     "start_time": "2025-01-25T06:11:29.053168Z"
    }
   },
   "cell_type": "code",
   "source": "X = lognorm.rvs(5, size=int(2e5), random_state=206783441).astype(int)",
   "id": "89ce72d6-e394-4d2d-afc0-86e7112139df",
   "outputs": [],
   "execution_count": 3
  },
  {
   "metadata": {},
   "cell_type": "markdown",
   "source": [
    "## Number of unique values\n",
    "With the chosen seed I got 12147 unique values - which matches the criteria of 10k uniques"
   ],
   "id": "e36af62403ca4884"
  },
  {
   "cell_type": "code",
   "id": "9bad648c-445e-48e4-a260-81fa70a98143",
   "metadata": {
    "tags": [],
    "ExecuteTime": {
     "end_time": "2025-01-25T06:11:29.132198Z",
     "start_time": "2025-01-25T06:11:29.107584Z"
    }
   },
   "source": [
    "np.unique(X).shape"
   ],
   "outputs": [
    {
     "data": {
      "text/plain": [
       "(12147,)"
      ]
     },
     "execution_count": 4,
     "metadata": {},
     "output_type": "execute_result"
    }
   ],
   "execution_count": 4
  },
  {
   "metadata": {},
   "cell_type": "markdown",
   "source": [
    "## How the distributions looks\n",
    "We can see what I mean - many heavy hitters close to 0, but plenty of uniques"
   ],
   "id": "c9d6df4da2ca943"
  },
  {
   "metadata": {
    "ExecuteTime": {
     "end_time": "2025-01-25T06:11:30.092388Z",
     "start_time": "2025-01-25T06:11:29.257693Z"
    }
   },
   "cell_type": "code",
   "source": [
    "plt.hist(X, bins=np.arange(1, 200))\n",
    "plt.show()"
   ],
   "id": "4095aef997dc2bc3",
   "outputs": [
    {
     "data": {
      "text/plain": [
       "<Figure size 640x480 with 1 Axes>"
      ],
      "image/png": "[encoded data removed]"
     },
     "metadata": {},
     "output_type": "display_data"
    }
   ],
   "execution_count": 5
  },
  {
   "metadata": {},
   "cell_type": "markdown",
   "source": [
    "# Experiments\n",
    "## Parameters\n",
    "I ran 100 different experiments for each estimator and config, with the seeds being the values 1 to 100 for each one.\n",
    "\n",
    "I used the seed to init the random hash function (the way it works is further elaborated in the file `experiments.py`) and besides that everthing else is deterministic"
   ],
   "id": "bbb021522d7adf9"
  },
  {
   "metadata": {},
   "cell_type": "markdown",
   "source": [
    "## Single $\\alpha$ estimator\n",
    "Here 200 experiments with a single $\\alpha$ estimator - the larger amount of experiments is because the variance of $\\alpha$ estimators is really high"
   ],
   "id": "9a27fa89859c78e2"
  },
  {
   "cell_type": "code",
   "id": "ae6b0b1a-575a-4223-8f76-780211bfed49",
   "metadata": {
    "tags": [],
    "ExecuteTime": {
     "end_time": "2025-01-25T06:11:54.250338Z",
     "start_time": "2025-01-25T06:11:30.138471Z"
    }
   },
   "source": "alpha_results = run_experiments(X, base_seeds=np.arange(1, 201).tolist(), num_hashes=1, num_betas=1, num_procs=8)",
   "outputs": [
    {
     "name": "stderr",
     "output_type": "stream",
     "text": [
      "num_hashes=1, num_betas=1: 100%|██████████| 100/100 [00:23<00:00,  4.33it/s]\n"
     ]
    }
   ],
   "execution_count": 6
  },
  {
   "metadata": {},
   "cell_type": "markdown",
   "source": [
    "### The results\n",
    "We can already see that median is really far from the actual value (around twice!)"
   ],
   "id": "d19df4b7b47e5f0e"
  },
  {
   "cell_type": "code",
   "id": "13d6a241-1442-48c1-8a4f-b441794b9122",
   "metadata": {
    "tags": [],
    "ExecuteTime": {
     "end_time": "2025-01-25T06:11:54.268987Z",
     "start_time": "2025-01-25T06:11:54.260346Z"
    }
   },
   "source": "np.median(alpha_results)",
   "outputs": [
    {
     "data": {
      "text/plain": [
       "np.float64(19984.78935506544)"
      ]
     },
     "execution_count": 7,
     "metadata": {},
     "output_type": "execute_result"
    }
   ],
   "execution_count": 7
  },
  {
   "metadata": {},
   "cell_type": "markdown",
   "source": "The mean is even worse, most likely due to outliers (as we'll see later)",
   "id": "a495667ba3f7f091"
  },
  {
   "metadata": {
    "ExecuteTime": {
     "end_time": "2025-01-25T06:11:54.336413Z",
     "start_time": "2025-01-25T06:11:54.326633Z"
    }
   },
   "cell_type": "code",
   "source": "np.mean(alpha_results)",
   "id": "c2166fec9bc38e05",
   "outputs": [
    {
     "data": {
      "text/plain": [
       "np.float64(77956.14219632144)"
      ]
     },
     "execution_count": 8,
     "metadata": {},
     "output_type": "execute_result"
    }
   ],
   "execution_count": 8
  },
  {
   "metadata": {},
   "cell_type": "markdown",
   "source": "The normalized variance is also insane - it's more than 53 million",
   "id": "212aea383e3899f1"
  },
  {
   "metadata": {
    "ExecuteTime": {
     "end_time": "2025-01-25T06:11:54.420405Z",
     "start_time": "2025-01-25T06:11:54.403309Z"
    }
   },
   "cell_type": "code",
   "source": "np.var(alpha_results) / len(np.unique(X))",
   "id": "83b6689ae976fcaf",
   "outputs": [
    {
     "data": {
      "text/plain": [
       "np.float64(3035365.7503246637)"
      ]
     },
     "execution_count": 9,
     "metadata": {},
     "output_type": "execute_result"
    }
   ],
   "execution_count": 9
  },
  {
   "metadata": {},
   "cell_type": "markdown",
   "source": "when we plot a histogram of the values with the actual number of uniques, the mean, and the median - we can see that they are not even close!",
   "id": "d62e79b05fb87ee0"
  },
  {
   "metadata": {
    "ExecuteTime": {
     "end_time": "2025-01-25T06:11:54.807307Z",
     "start_time": "2025-01-25T06:11:54.484416Z"
    }
   },
   "cell_type": "code",
   "source": [
    "plt.hist(alpha_results, bins=50)\n",
    "plt.axvline(x=len(np.unique(X)), color='red', label='actual')\n",
    "plt.axvline(x=np.mean(alpha_results), color='blue', label='mean')\n",
    "plt.axvline(x=np.median(alpha_results), color='yellow', label='median')\n",
    "plt.legend()\n",
    "plt.show()"
   ],
   "id": "52a7d968851f4a16",
   "outputs": [
    {
     "data": {
      "text/plain": [
       "<Figure size 640x480 with 1 Axes>"
      ],
      "image/png": "[encoded data removed]"
     },
     "metadata": {},
     "output_type": "display_data"
    }
   ],
   "execution_count": 10
  },
  {
   "metadata": {},
   "cell_type": "markdown",
   "source": "If we zoom in a bit, we can see that the median has most values around it, while the actual value is the **32nd percentile!**",
   "id": "2dc2918808ebf551"
  },
  {
   "metadata": {
    "ExecuteTime": {
     "end_time": "2025-01-25T06:11:54.851721Z",
     "start_time": "2025-01-25T06:11:54.837266Z"
    }
   },
   "cell_type": "code",
   "source": "np.mean(np.array(alpha_results) <= len(np.unique(X)))",
   "id": "1dac5b619ba6cc43",
   "outputs": [
    {
     "data": {
      "text/plain": [
       "np.float64(0.32)"
      ]
     },
     "execution_count": 11,
     "metadata": {},
     "output_type": "execute_result"
    }
   ],
   "execution_count": 11
  },
  {
   "metadata": {
    "ExecuteTime": {
     "end_time": "2025-01-25T06:11:55.190531Z",
     "start_time": "2025-01-25T06:11:54.888281Z"
    }
   },
   "cell_type": "code",
   "source": [
    "bins = np.linspace(np.min(alpha_results), np.percentile(alpha_results, 95), 50).tolist()\n",
    "plt.hist(alpha_results, bins=sorted(bins))\n",
    "plt.axvline(x=len(np.unique(X)), color='red', label='actual')\n",
    "plt.axvline(x=np.mean(alpha_results), color='blue', label='mean')\n",
    "plt.axvline(x=np.median(alpha_results), color='yellow', label='median')\n",
    "plt.legend()\n",
    "plt.show()"
   ],
   "id": "c21755df728478e2",
   "outputs": [
    {
     "data": {
      "text/plain": [
       "<Figure size 640x480 with 1 Axes>"
      ],
      "image/png": "[encoded data removed]"
     },
     "metadata": {},
     "output_type": "display_data"
    }
   ],
   "execution_count": 12
  },
  {
   "metadata": {},
   "cell_type": "markdown",
   "source": "this shows that as we learned at class, the $\\alpha$ estimator has way too much variance to be used as is",
   "id": "c59a72f9cb0e33e3"
  },
  {
   "metadata": {},
   "cell_type": "markdown",
   "source": [
    "## Single $\\beta$ estimator\n",
    "Here I ran a full FM estimator with a several hash functions and a single $\\beta$ estimator - which is just a $\\beta$ estimator"
   ],
   "id": "93670ac3f1ea1063"
  },
  {
   "metadata": {},
   "cell_type": "markdown",
   "source": [
    "### Evaluated sketch sizes\n",
    "For the beta estimator, I ran the same number of experiments with the following sketch sizes: $k = [10, 50, 100, 500, 1000]$"
   ],
   "id": "5218f5b412a1e0d8"
  },
  {
   "metadata": {
    "ExecuteTime": {
     "end_time": "2025-01-25T07:17:07.298990Z",
     "start_time": "2025-01-25T07:17:07.294328Z"
    }
   },
   "cell_type": "code",
   "source": "beta_sketch_sizes = [25, 50, 100, 250, 500, 1000]",
   "id": "2371dabef3840d83",
   "outputs": [],
   "execution_count": 65
  },
  {
   "metadata": {},
   "cell_type": "markdown",
   "source": [
    "### Other Parameters\n",
    "Due to the computation times, here I just ran 50 experiments for each sketch size - for the larger sketch sizes it took quite a while"
   ],
   "id": "bf82b43d7e0896a2"
  },
  {
   "metadata": {
    "ExecuteTime": {
     "end_time": "2025-01-25T06:11:56.982692Z",
     "start_time": "2025-01-25T06:11:55.236509Z"
    }
   },
   "cell_type": "code",
   "source": "raise Exception()",
   "id": "93b286718597cd56",
   "outputs": [
    {
     "ename": "Exception",
     "evalue": "",
     "output_type": "error",
     "traceback": [
      "\u001B[1;31m---------------------------------------------------------------------------\u001B[0m",
      "\u001B[1;31mException\u001B[0m                                 Traceback (most recent call last)",
      "Cell \u001B[1;32mIn[14], line 1\u001B[0m\n\u001B[1;32m----> 1\u001B[0m \u001B[38;5;28;01mraise\u001B[39;00m \u001B[38;5;167;01mException\u001B[39;00m()\n",
      "\u001B[1;31mException\u001B[0m: "
     ]
    }
   ],
   "execution_count": 14
  },
  {
   "cell_type": "code",
   "id": "5be0c961-52b1-4a2c-a630-727d8ee15ec5",
   "metadata": {
    "ExecuteTime": {
     "end_time": "2025-01-25T07:17:23.061635200Z",
     "start_time": "2025-01-25T07:17:13.537784Z"
    }
   },
   "source": [
    "beta_results = {\n",
    "    sketch_size: run_experiments(X, base_seeds=np.arange(1, 101).tolist(), num_hashes=sketch_size, num_betas=1, num_procs=8)\n",
    "    for sketch_size in beta_sketch_sizes\n",
    "}"
   ],
   "outputs": [
    {
     "name": "stderr",
     "output_type": "stream",
     "text": [
      "num_hashes=10, num_betas=1:   0%|          | 0/100 [00:00<?, ?it/s]"
     ]
    }
   ],
   "execution_count": null
  },
  {
   "metadata": {},
   "cell_type": "code",
   "outputs": [],
   "execution_count": null,
   "source": [
    "beta_results.update({\n",
    "    sketch_size: run_experiments(X, base_seeds=np.arange(1, 101).tolist(), num_hashes=sketch_size, num_betas=1, num_procs=8)\n",
    "    for sketch_size in beta_sketch_sizes if sketch_size not in beta_results\n",
    "})"
   ],
   "id": "27aa1a771a9d83cf"
  },
  {
   "metadata": {
    "ExecuteTime": {
     "end_time": "2025-01-25T06:12:20.922250Z",
     "start_time": "2025-01-25T06:12:20.913255Z"
    }
   },
   "cell_type": "code",
   "source": [
    "import pickle\n",
    "from pathlib import Path\n",
    "\n",
    "beta_results = dict()\n",
    "for pkl_file in Path().glob(\"results_b_1_h_*.pkl\"):\n",
    "    num_hashes = int(pkl_file.name.split('.')[0].split('_')[-1])\n",
    "    with pkl_file.open('rb') as f:\n",
    "        beta_results[num_hashes] = pickle.load(f)"
   ],
   "id": "67b7a5bd098e5926",
   "outputs": [],
   "execution_count": 15
  },
  {
   "metadata": {
    "ExecuteTime": {
     "end_time": "2025-01-25T07:04:24.191237Z",
     "start_time": "2025-01-25T06:59:23.026981Z"
    }
   },
   "cell_type": "code",
   "source": [
    "beta_25 = run_experiments(X, base_seeds=np.arange(1, 101).tolist(), num_hashes=25, num_betas=1, num_procs=8)\n",
    "print(f'median={float(np.median(beta_25))}')\n",
    "print(f'mean={float(np.mean(beta_25))}')\n",
    "f'norm_var={float(np.var(beta_25) / len(np.unique(X)))}'"
   ],
   "id": "fdfecc8d6e7af092",
   "outputs": [
    {
     "name": "stderr",
     "output_type": "stream",
     "text": [
      "num_hashes=25, num_betas=1: 100%|██████████| 100/100 [05:00<00:00,  3.00s/it]\n"
     ]
    },
    {
     "name": "stdout",
     "output_type": "stream",
     "text": [
      "median=13990.025223081395\n",
      "mean=15015.215555138571\n"
     ]
    },
    {
     "data": {
      "text/plain": [
       "'norm_var=2689.757200206871'"
      ]
     },
     "execution_count": 54,
     "metadata": {},
     "output_type": "execute_result"
    }
   ],
   "execution_count": 54
  },
  {
   "metadata": {
    "ExecuteTime": {
     "end_time": "2025-01-25T07:13:22.038163Z",
     "start_time": "2025-01-25T07:13:22.031854Z"
    }
   },
   "cell_type": "code",
   "source": "beta_results[25] = beta_25",
   "id": "970667ffcb4058cd",
   "outputs": [],
   "execution_count": 55
  },
  {
   "metadata": {
    "ExecuteTime": {
     "end_time": "2025-01-25T06:20:44.727178Z",
     "start_time": "2025-01-25T06:20:44.684543Z"
    }
   },
   "cell_type": "code",
   "source": "[f'{n_hashes=}: median={float(np.median(b_res))}, diff={abs(float(np.median(b_res)) - len(np.unique(X)))}' for n_hashes, b_res in sorted(beta_results.items())]",
   "id": "aea71a02275bb1fb",
   "outputs": [
    {
     "data": {
      "text/plain": [
       "['n_hashes=10: median=16311.115040220884, diff=4164.115040220884',\n",
       " 'n_hashes=50: median=12652.000194560955, diff=505.0001945609547',\n",
       " 'n_hashes=100: median=12504.31011446371, diff=357.3101144637094',\n",
       " 'n_hashes=1000: median=12141.74370431482, diff=5.2562956851797935']"
      ]
     },
     "execution_count": 39,
     "metadata": {},
     "output_type": "execute_result"
    }
   ],
   "execution_count": 39
  },
  {
   "metadata": {
    "ExecuteTime": {
     "end_time": "2025-01-25T06:20:47.374063Z",
     "start_time": "2025-01-25T06:20:47.339366Z"
    }
   },
   "cell_type": "code",
   "source": "[f'{n_hashes=}: mean={float(np.mean(b_res))}, diff={abs(float(np.mean(b_res)) - len(np.unique(X)))}' for n_hashes, b_res in sorted(beta_results.items())]",
   "id": "7896975eb1795b57",
   "outputs": [
    {
     "data": {
      "text/plain": [
       "['n_hashes=10: mean=19840.806294874666, diff=7693.8062948746665',\n",
       " 'n_hashes=50: mean=13615.713856871513, diff=1468.7138568715127',\n",
       " 'n_hashes=100: mean=13139.923475349236, diff=992.9234753492365',\n",
       " 'n_hashes=1000: mean=12251.484882724399, diff=104.48488272439863']"
      ]
     },
     "execution_count": 40,
     "metadata": {},
     "output_type": "execute_result"
    }
   ],
   "execution_count": 40
  },
  {
   "metadata": {
    "ExecuteTime": {
     "end_time": "2025-01-25T06:21:23.440084Z",
     "start_time": "2025-01-25T06:21:23.397454Z"
    }
   },
   "cell_type": "code",
   "source": "[f'{n_hashes=}: norm_var={float(np.var(b_res) / len(np.unique(X)))}' for n_hashes, b_res in sorted(beta_results.items())]",
   "id": "4635fdd099927b64",
   "outputs": [
    {
     "data": {
      "text/plain": [
       "['n_hashes=10: norm_var=14464.27930082976',\n",
       " 'n_hashes=50: norm_var=1169.2072687775824',\n",
       " 'n_hashes=100: norm_var=617.6659405279678',\n",
       " 'n_hashes=1000: norm_var=62.34363623429791']"
      ]
     },
     "execution_count": 41,
     "metadata": {},
     "output_type": "execute_result"
    }
   ],
   "execution_count": 41
  },
  {
   "metadata": {},
   "cell_type": "markdown",
   "source": [
    "### Histograms\n",
    "By looking at the histograms with different numbers of $\\alpha$ estimators, we can see how the variance trends lower and the mean gets closer to the actual number of unique elements.\n",
    "\n",
    "With 1000 $\\alpha$ estimators the difference between the median and the target is already visually indistinguishable, with the difference being only ~5.25."
   ],
   "id": "a14f2c32223c6bd5"
  },
  {
   "metadata": {
    "ExecuteTime": {
     "end_time": "2025-01-25T06:30:35.759994Z",
     "start_time": "2025-01-25T06:30:34.311003Z"
    }
   },
   "cell_type": "code",
   "source": [
    "num_cols = int(np.sqrt(len(beta_results)))\n",
    "num_rows = int(np.ceil(len(beta_results) / num_cols))\n",
    "fig, ax = plt.subplots(num_rows, num_cols, figsize=(20, 5))\n",
    "fig.subplots_adjust(wspace=0.1, hspace=0.5)\n",
    "ax = ax.ravel()\n",
    "for (n_hashes, b_res), cur_ax in zip(sorted(beta_results.items()), ax):\n",
    "    cur_ax.hist(b_res, bins=50)\n",
    "    cur_ax.axvline(x=len(np.unique(X)), color='red', label='actual')\n",
    "    cur_ax.axvline(x=np.mean(b_res), color='blue', label='mean', linestyle='--')\n",
    "    cur_ax.axvline(x=np.median(b_res), color='yellow', label='median', linestyle='--')\n",
    "    cur_ax.set_title(f'β-estimator with {n_hashes} α estimators')\n",
    "plt.legend()\n",
    "plt.show()"
   ],
   "id": "e2b337b57178889e",
   "outputs": [
    {
     "data": {
      "text/plain": [
       "<Figure size 2000x500 with 4 Axes>"
      ],
      "image/png": "[encoded data removed]"
     },
     "metadata": {},
     "output_type": "display_data"
    }
   ],
   "execution_count": 50
  },
  {
   "metadata": {},
   "cell_type": "markdown",
   "source": [
    "### Mean as a function of the number of $\\alpha$ estimators\n",
    "We can see that the mean trends towards the actual value as the number of $\\alpha$ estimators grows, which makes sense given what we learned in class"
   ],
   "id": "3c33b3bad1bbc2fe"
  },
  {
   "metadata": {
    "ExecuteTime": {
     "end_time": "2025-01-25T07:16:02.773590Z",
     "start_time": "2025-01-25T07:16:02.600518Z"
    }
   },
   "cell_type": "code",
   "source": [
    "plt.plot(sorted(beta_results.keys()), [np.mean(beta_results[k]) for k in sorted(beta_results.keys())], marker='x', mec='y')\n",
    "plt.axhline(y=len(np.unique(X)), color='red', label='actual')\n",
    "plt.show()"
   ],
   "id": "69349b2b6709abbf",
   "outputs": [
    {
     "data": {
      "text/plain": [
       "<Figure size 640x480 with 1 Axes>"
      ],
      "image/png": "[encoded data removed]"
     },
     "metadata": {},
     "output_type": "display_data"
    }
   ],
   "execution_count": 64
  },
  {
   "metadata": {},
   "cell_type": "markdown",
   "source": [
    "### Median as a function of the number of $\\alpha$ estimators\n",
    "The median also trends towards the actual value as the number of $\\alpha$ estimators grows, which is more interesting since this shows us what we could reasonably expect with the full FM estimator with 100 $\\beta$ estimators"
   ],
   "id": "9675a48ec43f5db0"
  },
  {
   "metadata": {
    "ExecuteTime": {
     "end_time": "2025-01-25T07:50:03.009512Z",
     "start_time": "2025-01-25T07:50:00.134385Z"
    }
   },
   "cell_type": "code",
   "source": [
    "plt.plot(sorted(beta_results.keys()), [np.median(beta_results[k]) for k in sorted(beta_results.keys())], marker='x', mec='y')\n",
    "plt.axhline(y=len(np.unique(X)), color='red', label='actual')\n",
    "plt.show()"
   ],
   "id": "aa8811b6bf44270b",
   "outputs": [
    {
     "ename": "NameError",
     "evalue": "name 'plt' is not defined",
     "output_type": "error",
     "traceback": [
      "\u001B[1;31m---------------------------------------------------------------------------\u001B[0m",
      "\u001B[1;31mNameError\u001B[0m                                 Traceback (most recent call last)",
      "Cell \u001B[1;32mIn[1], line 1\u001B[0m\n\u001B[1;32m----> 1\u001B[0m plt\u001B[38;5;241m.\u001B[39mplot(\u001B[38;5;28msorted\u001B[39m(beta_results\u001B[38;5;241m.\u001B[39mkeys()), [np\u001B[38;5;241m.\u001B[39mmedian(beta_results[k]) \u001B[38;5;28;01mfor\u001B[39;00m k \u001B[38;5;129;01min\u001B[39;00m \u001B[38;5;28msorted\u001B[39m(beta_results\u001B[38;5;241m.\u001B[39mkeys())], marker\u001B[38;5;241m=\u001B[39m\u001B[38;5;124m'\u001B[39m\u001B[38;5;124mx\u001B[39m\u001B[38;5;124m'\u001B[39m, mec\u001B[38;5;241m=\u001B[39m\u001B[38;5;124m'\u001B[39m\u001B[38;5;124my\u001B[39m\u001B[38;5;124m'\u001B[39m)\n\u001B[0;32m      2\u001B[0m plt\u001B[38;5;241m.\u001B[39maxhline(y\u001B[38;5;241m=\u001B[39m\u001B[38;5;28mlen\u001B[39m(np\u001B[38;5;241m.\u001B[39munique(X)), color\u001B[38;5;241m=\u001B[39m\u001B[38;5;124m'\u001B[39m\u001B[38;5;124mred\u001B[39m\u001B[38;5;124m'\u001B[39m, label\u001B[38;5;241m=\u001B[39m\u001B[38;5;124m'\u001B[39m\u001B[38;5;124mactual\u001B[39m\u001B[38;5;124m'\u001B[39m)\n\u001B[0;32m      3\u001B[0m plt\u001B[38;5;241m.\u001B[39mshow()\n",
      "\u001B[1;31mNameError\u001B[0m: name 'plt' is not defined"
     ]
    }
   ],
   "execution_count": 1
  },
  {
   "metadata": {},
   "cell_type": "markdown",
   "source": [
    "### Normalized Variance as a function of the number of $\\alpha$ estimators\n",
    "The normalized variance seems to decrease linearly as a function of the number of $\\alpha$ estimators, which matches what we learned in class"
   ],
   "id": "950dba41e889a867"
  },
  {
   "metadata": {
    "ExecuteTime": {
     "end_time": "2025-01-25T07:50:03.033522900Z",
     "start_time": "2025-01-25T07:13:31.529071Z"
    }
   },
   "cell_type": "code",
   "source": [
    "plt.plot(sorted(beta_results.keys()), [np.var(beta_results[k]) / len(np.unique(X)) for k in sorted(beta_results.keys())], marker='x', mec='y')\n",
    "plt.show()"
   ],
   "id": "d2d487d0b2c59bcf",
   "outputs": [
    {
     "data": {
      "text/plain": [
       "<Figure size 640x480 with 1 Axes>"
      ],
      "image/png": "[encoded data removed]"
     },
     "metadata": {},
     "output_type": "display_data"
    }
   ],
   "execution_count": 58
  },
  {
   "metadata": {
    "ExecuteTime": {
     "end_time": "2025-01-25T06:11:57.146847300Z",
     "start_time": "2025-01-19T15:08:22.822247Z"
    }
   },
   "cell_type": "code",
   "source": "{k: np.var(val) / len(np.unique(X)) for k, val in beta_results.items()}",
   "id": "dd90abaa303ffb2d",
   "outputs": [
    {
     "data": {
      "text/plain": [
       "{10: np.float64(1500.9623883238824),\n",
       " 50: np.float64(276.46580835131874),\n",
       " 100: np.float64(144.13201480550518),\n",
       " 500: np.float64(21.784362807996274),\n",
       " 1000: np.float64(9.623186392562172)}"
      ]
     },
     "execution_count": 24,
     "metadata": {},
     "output_type": "execute_result"
    }
   ],
   "execution_count": 24
  },
  {
   "metadata": {
    "ExecuteTime": {
     "end_time": "2025-01-25T06:11:57.150846800Z",
     "start_time": "2025-01-19T15:17:07.141910Z"
    }
   },
   "cell_type": "code",
   "source": "np.mean(np.array(tmp_results) <= len(np.unique(X)))",
   "id": "463d15595654aa2d",
   "outputs": [
    {
     "data": {
      "text/plain": [
       "np.float64(0.06)"
      ]
     },
     "execution_count": 33,
     "metadata": {},
     "output_type": "execute_result"
    }
   ],
   "execution_count": 33
  },
  {
   "metadata": {},
   "cell_type": "code",
   "outputs": [],
   "execution_count": null,
   "source": "",
   "id": "4a4c2e542d167d5f"
  },
  {
   "metadata": {},
   "cell_type": "markdown",
   "source": [
    "## Full full estimator\n",
    "Here I ran a full FM estimator with 100 experiments with the following params:\n",
    "\n",
    "| $\\beta$-estimators | Hash Functions |\n",
    "|--------------------|----------------|\n",
    "| 4                  | 50             |\n",
    "| 4                  | 100            |\n",
    "| 4                  | 500            |\n",
    "| 4                  | 1000           |\n",
    "| 8                  | 100            |\n",
    "| 8                  | 500            |\n",
    "| 8                  | 1000           |"
   ],
   "id": "3fd0ae1c90e1c355"
  },
  {
   "metadata": {},
   "cell_type": "code",
   "outputs": [],
   "execution_count": null,
   "source": "",
   "id": "3dbde6204357b0ad"
  }
 ],
 "metadata": {
  "kernelspec": {
   "display_name": "Python 3 (ipykernel)",
   "language": "python",
   "name": "python3"
  },
  "language_info": {
   "codemirror_mode": {
    "name": "ipython",
    "version": 3
   },
   "file_extension": ".py",
   "mimetype": "text/x-python",
   "name": "python",
   "nbconvert_exporter": "python",
   "pygments_lexer": "ipython3",
   "version": "3.11.5"
  }
 },
 "nbformat": 4,
 "nbformat_minor": 5
}
